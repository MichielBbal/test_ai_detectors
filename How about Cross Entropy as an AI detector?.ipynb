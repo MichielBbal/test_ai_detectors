{
 "cells": [
  {
   "cell_type": "markdown",
   "id": "3a350e5f",
   "metadata": {},
   "source": [
    "# How about Cross Entropy as an AI detector?"
   ]
  },
  {
   "cell_type": "code",
   "execution_count": null,
   "id": "a8ab4266",
   "metadata": {},
   "outputs": [],
   "source": [
    "# Get the needed libraries\n",
    "import torch\n",
    "from torch.nn import functional as F"
   ]
  }
 ],
 "metadata": {
  "kernelspec": {
   "display_name": "Python 3 (ipykernel)",
   "language": "python",
   "name": "python3"
  },
  "language_info": {
   "codemirror_mode": {
    "name": "ipython",
    "version": 3
   },
   "file_extension": ".py",
   "mimetype": "text/x-python",
   "name": "python",
   "nbconvert_exporter": "python",
   "pygments_lexer": "ipython3",
   "version": "3.10.9"
  }
 },
 "nbformat": 4,
 "nbformat_minor": 5
}
