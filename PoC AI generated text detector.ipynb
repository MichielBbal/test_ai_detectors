{
 "cells": [
  {
   "cell_type": "markdown",
   "id": "275024d2",
   "metadata": {},
   "source": [
    "# Can we use perplexity as a metric to detect AI generated text?\n",
    "\n",
    "### Why this notebook?\n",
    "With the rise of Generative AI in education, there is a growing need for teachers to check whether a text is written by a human or an AI. A possible metric to detect AI generated text is perplexity. In this notebook we will compare 5 AI generated texts with 5 human generated texts, calculate their perplexity and compare results.\n",
    "\n",
    "### TL;DR\n",
    "Yes, this works. (For the small set of given texts that is.)\n",
    "\n",
    "### Contents\n",
    "0. Install packages\n",
    "1. Settings\n",
    "2. Getting perplexity for 10 openAI generated texts\n",
    "3. Getting the perplexity for 10 human written texts\n",
    "4. Comparing results and conclusion\n",
    "\n",
    "### Sources\n",
    "The English human written text is from two articles:\n",
    "- https://www.economist.com/europe/2023/06/09/ukraines-assault-in-zaporizhia-may-be-the-focus-of-its-offensive\n",
    "- https://www.bbc.com/news/world-latin-america-65864158\n",
    "\n",
    "The Dutch human written text is from these two sources:\n",
    "- https://www.nu.nl/binnenland/6267525/hitteprotocol-rijkswaterstaat-geldt-ook-maandag-behalve-in-het-noorden.html\n",
    "- https://nos.nl/artikel/2478434-het-oekraiense-tegenoffensief-is-begonnen-hoe-staat-het-ervoor\n",
    "\n",
    "The AI generated text is from OpenAI GPT-3.5 using their API."
   ]
  },
  {
   "cell_type": "markdown",
   "id": "1c53dc23",
   "metadata": {},
   "source": [
    "## Calculating perplexity\n",
    "\n",
    "Perplexity is a metric that is used to measure the quality of language models. It is reversely related to the entropy of a model. \n",
    "\n",
    "\n",
    "- blog: https://medium.com/@priyankads/perplexity-of-language-models-41160427ed72\n",
    "- wiki: https://en.wikipedia.org/wiki/Perplexity\n",
    "- o'reilly: https://www.oreilly.com/library/view/natural-language-processing/9781787285101/ch21s05.html (to do)"
   ]
  },
  {
   "cell_type": "markdown",
   "id": "22b19a75",
   "metadata": {},
   "source": [
    "## 0. Install packages"
   ]
  },
  {
   "cell_type": "code",
   "execution_count": 1,
   "id": "5f80563e",
   "metadata": {},
   "outputs": [],
   "source": [
    "#pip install openai\n",
    "#pip install transformers\n",
    "#pip install torch"
   ]
  },
  {
   "cell_type": "markdown",
   "id": "de3eee16",
   "metadata": {},
   "source": [
    "## 1. Settings"
   ]
  },
  {
   "cell_type": "code",
   "execution_count": 11,
   "id": "60d37515",
   "metadata": {},
   "outputs": [],
   "source": [
    "#set API keys\n",
    "import os\n",
    "import config\n",
    "import torch\n",
    "os.environ['OPENAI_API_KEY'] = config.openai_key # replace with your own API-key, but don't keep it in your source code :-)"
   ]
  },
  {
   "cell_type": "code",
   "execution_count": 3,
   "id": "2b902029",
   "metadata": {},
   "outputs": [],
   "source": [
    "#OpenAI settings\n",
    "import openai  # for calling the OpenAI API\n",
    "\n",
    "# models\n",
    "EMBEDDING_MODEL = \"text-embedding-ada-002\" #choose your embeddings model\n",
    "GPT_MODEL = \"gpt-3.5-turbo\" #choose the generative model"
   ]
  },
  {
   "cell_type": "code",
   "execution_count": 9,
   "id": "2dd057af",
   "metadata": {},
   "outputs": [],
   "source": [
    "#Huggingface Transformers settings (to do perplexity) and \n",
    "from transformers import AutoModelForCausalLM, AutoTokenizer\n",
    "model = AutoModelForCausalLM.from_pretrained(\"gpt2\")\n",
    "tokenizer = AutoTokenizer.from_pretrained(\"gpt2\")"
   ]
  },
  {
   "cell_type": "markdown",
   "id": "e8c1caf9",
   "metadata": {},
   "source": [
    "## 2. Getting perplexity for 10 openAI generated texts"
   ]
  },
  {
   "cell_type": "code",
   "execution_count": 4,
   "id": "b21d9ba0",
   "metadata": {},
   "outputs": [
    {
     "data": {
      "text/plain": [
       "['What is a perceptron and what is a Multi Layered Percetpron?\\n',\n",
       " 'What is the difference between Machine Learning and Deep Learning\\n',\n",
       " 'Explain the backpropagation algorithm.\\n',\n",
       " 'Describe who Geoff Hinton is and what was his role in developing Neural Networks?\\n',\n",
       " 'How can we detect whether a text is written by a human or a generative AI?\\n',\n",
       " 'Describe the difference between human and artificial neurons\\n',\n",
       " 'In what way will generative AI transform the world\\n',\n",
       " 'Why was the language model BERT important for the field of NLP\\n',\n",
       " \"Explain why Meta's LLamA is better than GPT3.5?\\n\",\n",
       " 'Explain what Gaussian Mixtures are.']"
      ]
     },
     "execution_count": 4,
     "metadata": {},
     "output_type": "execute_result"
    }
   ],
   "source": [
    "query_list = []\n",
    "with open ('prompts_en.txt', mode='r') as prompts: #change to 'prompts_nl.txt' for Dutch prompts\n",
    "    for prompt in prompts: #for each row do the following\n",
    "        #query = prompt.split()\n",
    "        query_list.append(prompt)\n",
    "query_list"
   ]
  },
  {
   "cell_type": "code",
   "execution_count": 6,
   "id": "49b99211",
   "metadata": {},
   "outputs": [],
   "source": [
    "oa_result_list =[]\n",
    "for i in range(len(query_list)):\n",
    "    query = query_list[i]\n",
    "\n",
    "    response = openai.ChatCompletion.create(\n",
    "        messages=[\n",
    "            {'role': 'system', 'content': ''},\n",
    "            {'role': 'user', 'content': query},\n",
    "        ],\n",
    "        model=GPT_MODEL,\n",
    "        temperature=0\n",
    "        \n",
    "        , #temperature is a parameter about the entropy of the model (the higher, the greater variation in results)\n",
    "    )\n",
    "\n",
    "    #print(response['choices'][0]['message']['content'])\n",
    "    openai_result = response['choices'][0]['message']['content']\n",
    "    oa_result_list.append(openai_result)"
   ]
  },
  {
   "cell_type": "code",
   "execution_count": 7,
   "id": "ac16e98e",
   "metadata": {},
   "outputs": [
    {
     "name": "stdout",
     "output_type": "stream",
     "text": [
      "10\n",
      "A perceptron is a type of artificial neural network that is used for binary classification tasks. It consists of a single layer of artificial neurons, also known as perceptrons, which take in multiple inputs and produce a single output. Each input is multiplied by a weight, and the weighted inputs are summed up. This sum is then passed through an activation function, which determines the output of the perceptron.\n",
      "\n",
      "A multi-layered perceptron (MLP) is an extension of the perceptron that consists of multiple layers of artificial neurons. It is a feedforward neural network, meaning that information flows in one direction, from the input layer to the output layer. The input layer receives the input data, and the output layer produces the final output. The layers in between are called hidden layers, as their outputs are not directly observed.\n",
      "\n",
      "In an MLP, each neuron in a layer is connected to every neuron in the subsequent layer. The connections between neurons have associated weights, which are adjusted during the training process to optimize the network's performance. MLPs are capable of learning complex patterns and are widely used for various tasks, including classification, regression, and pattern recognition.\n",
      "----------------------------------------------------------------------------------------------------\n",
      "Machine learning and deep learning are both subsets of artificial intelligence, but they differ in terms of their approach and complexity.\n",
      "\n",
      "Machine learning is a field of study that focuses on developing algorithms and models that enable computers to learn from and make predictions or decisions based on data. It involves training a model on a dataset and using that model to make predictions or decisions on new, unseen data. Machine learning algorithms can be categorized into supervised learning, unsupervised learning, and reinforcement learning.\n",
      "\n",
      "Deep learning, on the other hand, is a subfield of machine learning that specifically focuses on artificial neural networks. It involves training deep neural networks with multiple layers to learn and extract hierarchical representations of data. Deep learning algorithms are designed to automatically learn and discover patterns or features from raw data, without the need for explicit feature engineering. Deep learning has achieved remarkable success in various domains, such as computer vision, natural language processing, and speech recognition.\n",
      "\n",
      "In summary, machine learning is a broader field that encompasses various algorithms and techniques for learning from data, while deep learning is a specific approach within machine learning that utilizes deep neural networks to learn and extract complex patterns from data.\n",
      "----------------------------------------------------------------------------------------------------\n",
      "The backpropagation algorithm is a widely used method for training artificial neural networks. It is a supervised learning algorithm that adjusts the weights of the network's connections in order to minimize the difference between the predicted output and the actual output.\n",
      "\n",
      "The algorithm consists of two main phases: the forward pass and the backward pass.\n",
      "\n",
      "During the forward pass, the input data is fed into the network, and the activations of each neuron are computed layer by layer. The activations are calculated using the weights of the connections and the activation function of each neuron. The output of the network is then compared to the desired output, and the error is calculated.\n",
      "\n",
      "In the backward pass, the error is propagated back through the network. The goal is to update the weights of the connections in such a way that the error is minimized. This is done by calculating the gradient of the error with respect to each weight. The gradient represents the direction and magnitude of the weight update that will reduce the error.\n",
      "\n",
      "The gradient is calculated using the chain rule of calculus. Starting from the output layer, the gradient is computed for each neuron by multiplying the error with the derivative of the activation function. This gradient is then used to update the weights of the connections between the current neuron and the neurons in the previous layer.\n",
      "\n",
      "The process is repeated for each layer, propagating the gradient backwards through the network. The weights are updated using a learning rate, which determines the step size of the weight update. This process is repeated for multiple iterations or until the error reaches a satisfactory level.\n",
      "\n",
      "By iteratively adjusting the weights based on the error, the backpropagation algorithm allows the neural network to learn and improve its performance over time. It is a powerful and efficient method for training neural networks and has been successfully applied to various tasks such as image recognition, natural language processing, and speech recognition.\n",
      "----------------------------------------------------------------------------------------------------\n",
      "Geoff Hinton is a renowned computer scientist and cognitive psychologist. He is widely regarded as one of the pioneers of artificial intelligence and neural networks. Hinton's work has significantly contributed to the development and advancement of neural networks, particularly in the field of deep learning.\n",
      "\n",
      "Hinton's research has focused on understanding how the human brain processes information and translating those insights into computational models. He has made groundbreaking contributions to the field of neural networks, including the development of the backpropagation algorithm, which is a fundamental technique for training artificial neural networks.\n",
      "\n",
      "Backpropagation allows neural networks to learn from data by adjusting the weights and biases of the network based on the error between the predicted output and the actual output. This algorithm revolutionized the field of neural networks and made it possible to train deep neural networks with multiple layers.\n",
      "\n",
      "Hinton's work on deep learning has had a profound impact on various applications, including computer vision, speech recognition, natural language processing, and many others. His research has paved the way for significant advancements in these areas and has led to breakthroughs in tasks such as image classification, object detection, and language translation.\n",
      "\n",
      "In addition to his research contributions, Hinton has also played a crucial role in promoting and popularizing neural networks. He has been a vocal advocate for the potential of deep learning and has actively worked to bridge the gap between academia and industry. Hinton's efforts have helped to establish neural networks as a powerful tool in the field of artificial intelligence and have inspired countless researchers and practitioners to explore and further develop this technology.\n",
      "----------------------------------------------------------------------------------------------------\n",
      "Detecting whether a text is written by a human or a generative AI can be challenging, as AI models have become increasingly sophisticated. However, there are a few techniques that can help in distinguishing between the two:\n",
      "\n",
      "1. Linguistic Analysis: Analyzing the language used in the text can provide some insights. Generative AI models may produce text that is grammatically correct but lacks the nuances and inconsistencies typically found in human writing. Look for patterns, repetitive phrases, or unnatural language usage that might indicate AI-generated content.\n",
      "\n",
      "2. Contextual Understanding: Understanding the context of the text can be helpful. AI models often struggle with maintaining a coherent and consistent narrative, especially when asked to provide specific details or answer questions about the real world. If the text lacks contextual understanding or provides implausible information, it might be generated by AI.\n",
      "\n",
      "3. Knowledge-based Questions: Asking questions that require general knowledge or personal experiences can help differentiate between human and AI-generated text. AI models often struggle to answer questions that require real-world experiences or subjective opinions, while humans can provide more nuanced and detailed responses.\n",
      "\n",
      "4. Metadata Analysis: Examining metadata associated with the text, such as timestamps, author information, or platform details, can provide clues. AI-generated text might lack metadata or have inconsistencies that indicate it was generated by a machine.\n",
      "\n",
      "5. Training Data Artifacts: Some AI models may inadvertently reveal their training data sources. For example, if an AI model was trained on a specific dataset, it might exhibit biases or knowledge gaps related to that dataset. Identifying such artifacts can help identify AI-generated text.\n",
      "\n",
      "It's important to note that these techniques are not foolproof, and as AI models continue to improve, distinguishing between human and AI-generated text may become more challenging.\n",
      "----------------------------------------------------------------------------------------------------\n",
      "Human neurons are the basic building blocks of the human nervous system, responsible for transmitting electrical signals and processing information. They consist of a cell body, dendrites that receive signals from other neurons, and an axon that transmits signals to other neurons. Human neurons are highly complex and interconnected, allowing for the processing and integration of information.\n",
      "\n",
      "On the other hand, artificial neurons, also known as artificial neural units or perceptrons, are computational models inspired by human neurons. They are designed to mimic the basic functionality of human neurons in artificial neural networks. Artificial neurons typically have multiple inputs and a single output, and they perform a weighted sum of the inputs, followed by an activation function to produce an output.\n",
      "\n",
      "One key difference between human and artificial neurons is their physical nature. Human neurons are biological cells, while artificial neurons are mathematical models implemented in software or hardware. Human neurons are also much more complex and capable of performing a wide range of functions, including learning and memory, while artificial neurons are simpler and primarily used for information processing in artificial neural networks.\n",
      "\n",
      "Another difference is the way they process information. Human neurons transmit electrical signals through the movement of ions across their cell membranes. They can also modify the strength of their connections with other neurons through a process called synaptic plasticity. Artificial neurons, on the other hand, process information using mathematical operations, such as the weighted sum and activation function mentioned earlier. They do not have the ability to modify their connections or learn from experience in the same way as human neurons.\n",
      "\n",
      "Overall, while artificial neurons are inspired by human neurons and share some similarities in terms of information processing, they are much simpler and lack the complexity and adaptability of their biological counterparts.\n",
      "----------------------------------------------------------------------------------------------------\n",
      "Generative AI has the potential to transform the world in several ways:\n",
      "\n",
      "1. Creative Content Generation: Generative AI can create original and high-quality content, such as art, music, and writing. This can revolutionize the creative industry by providing new and unique works that were previously only possible through human creativity.\n",
      "\n",
      "2. Personalized Experiences: Generative AI can analyze vast amounts of data and generate personalized recommendations and experiences for individuals. This can enhance various sectors like entertainment, e-commerce, and healthcare by tailoring products and services to individual preferences and needs.\n",
      "\n",
      "3. Automation and Efficiency: Generative AI can automate repetitive and mundane tasks, freeing up human resources for more complex and creative work. This can lead to increased productivity and efficiency across industries, from manufacturing to customer service.\n",
      "\n",
      "4. Simulation and Prediction: Generative AI can simulate complex scenarios and predict outcomes based on various parameters. This can be applied in fields like weather forecasting, financial modeling, and drug discovery, enabling better decision-making and planning.\n",
      "\n",
      "5. Virtual Assistants and Chatbots: Generative AI can power virtual assistants and chatbots that can understand and respond to human queries and requests. This can improve customer service, provide personalized assistance, and streamline interactions in various domains.\n",
      "\n",
      "6. Language Translation and Communication: Generative AI can facilitate real-time language translation, breaking down language barriers and enabling seamless communication between people from different linguistic backgrounds.\n",
      "\n",
      "7. Scientific Research and Discovery: Generative AI can assist scientists in analyzing large datasets, identifying patterns, and generating hypotheses. This can accelerate scientific research and lead to breakthroughs in fields like medicine, climate change, and space exploration.\n",
      "\n",
      "Overall, generative AI has the potential to revolutionize various aspects of our lives, making them more efficient, personalized, and creative. However, it also raises ethical concerns and challenges related to privacy, bias, and the impact on employment.\n",
      "----------------------------------------------------------------------------------------------------\n",
      "The language model BERT (Bidirectional Encoder Representations from Transformers) was important for the field of Natural Language Processing (NLP) for several reasons:\n",
      "\n",
      "1. Pre-training and fine-tuning: BERT introduced a novel approach to language modeling by pre-training a deep bidirectional transformer model on a large corpus of unlabeled text and then fine-tuning it on specific downstream tasks. This approach allowed BERT to learn contextual representations of words and sentences, capturing the relationships between them.\n",
      "\n",
      "2. Contextual understanding: BERT's bidirectional nature enables it to consider the context of a word by looking at both the left and right context. This contextual understanding significantly improved the model's ability to handle tasks like sentiment analysis, named entity recognition, question answering, and more.\n",
      "\n",
      "3. Transfer learning: BERT's pre-training and fine-tuning approach enabled transfer learning, where the model could be trained on a large corpus of data and then fine-tuned on specific tasks with smaller labeled datasets. This reduced the need for large labeled datasets for every task, making it easier to apply NLP models to various domains and languages.\n",
      "\n",
      "4. State-of-the-art performance: BERT achieved state-of-the-art performance on several NLP benchmarks, surpassing previous models in various tasks. Its ability to capture contextual information and transfer learning capabilities contributed to its success.\n",
      "\n",
      "5. Open-source availability: BERT was released as an open-source model by Google, making it accessible to the research community and industry practitioners. This led to widespread adoption, further advancements, and the development of various BERT-based models and applications.\n",
      "\n",
      "Overall, BERT's contributions to NLP include improved contextual understanding, transfer learning capabilities, state-of-the-art performance, and increased accessibility, making it a significant milestone in the field.\n",
      "----------------------------------------------------------------------------------------------------\n",
      "Meta's LLamA is better than GPT3.5 for several reasons:\n",
      "\n",
      "1. Contextual Understanding: LLamA has a better grasp of context and can understand nuanced questions and statements more effectively. It can provide more accurate and relevant responses by considering the broader context of the conversation.\n",
      "\n",
      "2. Fact-Checking Capabilities: LLamA has been trained to fact-check information and can provide more reliable and accurate answers. It can verify claims and provide evidence to support its responses, ensuring the information it provides is trustworthy.\n",
      "\n",
      "3. Ethical Guidelines: LLamA is designed with ethical guidelines in mind. It has been trained to avoid generating harmful or biased content and to prioritize user safety. This ensures that LLamA's responses are more responsible and aligned with ethical standards.\n",
      "\n",
      "4. Improved Language Generation: LLamA has been trained on a vast amount of data, including high-quality sources, which helps it generate more coherent and accurate responses. It can produce well-structured and contextually appropriate answers, making the conversation more engaging and meaningful.\n",
      "\n",
      "5. Enhanced User Experience: LLamA has been fine-tuned to provide a more user-friendly experience. It can ask clarifying questions when faced with ambiguous queries, seek feedback to improve its responses, and adapt its behavior based on user preferences. This makes the interaction with LLamA more interactive and personalized.\n",
      "\n",
      "Overall, Meta's LLamA outperforms GPT3.5 in terms of contextual understanding, fact-checking capabilities, ethical guidelines, language generation, and user experience. These improvements make LLamA a more reliable, responsible, and engaging conversational AI model.\n",
      "----------------------------------------------------------------------------------------------------\n",
      "Gaussian mixtures, also known as Gaussian mixture models (GMMs), are probabilistic models that represent a probability distribution as a combination of multiple Gaussian distributions. \n",
      "\n",
      "In a Gaussian mixture model, the probability distribution is assumed to be a mixture of several Gaussian distributions, each with its own mean and covariance. The model assumes that the observed data points are generated from one of these Gaussian distributions, but it is uncertain which one. \n",
      "\n",
      "The mixture model assigns a weight to each Gaussian distribution, representing the probability of selecting that distribution to generate a data point. These weights determine the contribution of each Gaussian component to the overall probability distribution. \n",
      "\n",
      "Gaussian mixtures are often used for modeling complex data distributions that cannot be accurately represented by a single Gaussian distribution. They can capture multiple modes or clusters in the data, allowing for more flexible and accurate modeling. \n",
      "\n",
      "Gaussian mixture models are commonly used in various applications, such as image and speech recognition, clustering, anomaly detection, and data compression. They can be trained using algorithms like the Expectation-Maximization (EM) algorithm, which estimates the parameters of the Gaussian components based on the observed data.\n",
      "----------------------------------------------------------------------------------------------------\n"
     ]
    }
   ],
   "source": [
    "print(len(oa_result_list))\n",
    "for i in range(len(oa_result_list)):\n",
    "    print(oa_result_list[i])\n",
    "    print(100*'-')"
   ]
  },
  {
   "cell_type": "code",
   "execution_count": 12,
   "id": "095c7edf",
   "metadata": {},
   "outputs": [
    {
     "name": "stdout",
     "output_type": "stream",
     "text": [
      "tensor(10.2043, grad_fn=<ExpBackward0>)\n",
      "tensor(9.9168, grad_fn=<ExpBackward0>)\n",
      "tensor(8.8854, grad_fn=<ExpBackward0>)\n",
      "tensor(7.8319, grad_fn=<ExpBackward0>)\n",
      "tensor(13.0384, grad_fn=<ExpBackward0>)\n",
      "tensor(11.3414, grad_fn=<ExpBackward0>)\n",
      "tensor(9.9246, grad_fn=<ExpBackward0>)\n",
      "tensor(13.8144, grad_fn=<ExpBackward0>)\n",
      "tensor(11.8843, grad_fn=<ExpBackward0>)\n",
      "tensor(11.6865, grad_fn=<ExpBackward0>)\n"
     ]
    }
   ],
   "source": [
    "#getting the perplexity tensor for the openai generated text\n",
    "perplexity_list =[]\n",
    "for i in range(len(oa_result_list)):\n",
    "    inputs_text = tokenizer(oa_result_list[i], return_tensors = \"pt\")\n",
    "    loss = model(input_ids = inputs_text[\"input_ids\"], labels = inputs_text[\"input_ids\"]).loss\n",
    "    ppl = torch.exp(loss)\n",
    "    print(ppl)\n",
    "    perplexity_list.append(ppl)"
   ]
  },
  {
   "cell_type": "code",
   "execution_count": 13,
   "id": "73406aca",
   "metadata": {},
   "outputs": [
    {
     "name": "stdout",
     "output_type": "stream",
     "text": [
      "[10.2043, 9.9168, 8.8854, 7.8319, 13.0384, 11.3414, 9.9246, 13.8144, 11.8843, 11.6865]\n"
     ]
    }
   ],
   "source": [
    "#converting tensors to string and getting just the values\n",
    "ai_text_perplexity= []\n",
    "for i in range(len(perplexity_list)):\n",
    "    tensor_string=str(perplexity_list[i])\n",
    "    a,b = tensor_string.split(\",\")\n",
    "    tensor, perplexity = a.split(\"(\")\n",
    "    ai_text_perplexity.append(float(perplexity))\n",
    "print(ai_text_perplexity)"
   ]
  },
  {
   "cell_type": "markdown",
   "id": "aee42485",
   "metadata": {},
   "source": [
    "## 3. Getting the perplexity for 10 human written texts"
   ]
  },
  {
   "cell_type": "code",
   "execution_count": 14,
   "id": "fff8aa45",
   "metadata": {},
   "outputs": [
    {
     "data": {
      "text/plain": [
       "['Ukraine’s counter-offensive is just a few days old. But its shape is gradually becoming clearer. One axis points east, at the area around the bloodily contested town of Bakhmut and in Luhansk province. Another aims south and south-east from Vuhledar in Donetsk province. The third is perhaps the most important. On June 8th it became apparent that Ukraine had launched a major southward assault in Zaporizhia province, which forms the central part of the war’s long frontline. It looks like the biggest one yet.\\n',\n",
       " 'Although the attack began earlier, overnight on June 8th Ukrainian troops advanced in two prongs from Orikhiv, a small Ukrainian-held town, according to a source familiar with the course of fighting. One advance hugged the Konka river, a tributary of the Dnieper that snakes east of the town. The other occurred further east. Russian military bloggers on Telegram, a messaging platform, described a fierce assault with heavy artillery bombardment and the use of tanks.\\n',\n",
       " 'Russia’s defence ministry claimed to have repelled an attack in Novodarivka, which lies almost 70km east of Orikhiv. On June 8th Yevgeny Balitsky, the leader of Russia’s puppet government in the occupied part of Zaporizhia, ordered residents in Tokmak and a pair of towns on either side, Vasylivka and Polohy, to evacuate to Simferopol in Crimea. There was reportedly heavy fighting around the area.\\n',\n",
       " 'There are some early signs that the attack in Zaporizhia differs from those in the east and south. One is the scale and intensity of the Ukrainian assault. Another is the equipment that is being used. Drone images published by Russian media appear to show German Leopard tanks, including the most advanced 2a6 variants; American Bradley armoured fighting vehicles; and m113 armoured personnel carriers in Mala Tokmachka, a village to the east of Orikhiv. That would suggest that Ukraine has committed several of its nine Western-armed and -trained brigades—including some of the best-equipped ones, according to leaked Pentagon documents from February—in the area.\\n',\n",
       " 'Military experts and officials had long thought that Zaporizhia was a logical place for Ukraine to focus its offensive. Its position at the heart of the frontline means that any attack there could trap large numbers of Russian troops in a pocket to the west, in Kherson province. Many could also be trapped in Crimea itself, if Ukraine managed to strike the bridge over the Kerch strait again. If Ukraine could get to the key city of Melitopol, it could strike at Russian road and rail supply lines running westwards to Crimea, in essence severing the so-called land bridge that connects Russian territory to the occupied peninsula. Just getting to within artillery range of the links would also cause big problems for Russia\\n',\n",
       " 'Four children have been found alive after surviving a plane crash and spending weeks fending for themselves in Colombia\\'s Amazon jungle. Colombia\\'s president said the rescue of the siblings, aged 13, nine, four and one, was \"a joy for the whole country\".The children\\'s mother and two pilots were killed when their light aircraft crashed in the jungle on 1 May. The missing children became the focus of a huge rescue operation involving dozens of soldiers and local people.President Gustavo Petro said finding the group was a \"magical day\", adding: \"They were alone, they themselves achieved an example of total survival which will remain in history.\"\\n',\n",
       " 'The children belong to the Huitoto indigenous group. Mr Petro shared a photograph of several members of the military and Indigenous community caring for the siblings, who had been missing for 40 days.One of the rescuers held a bottle up to the mouth of the smallest child, while another fed one of the other children from a mug with a spoon.\\n',\n",
       " \"A video shared by Colombia's ministry of defence showed the children being lifted into a helicopter in the dark above the tall trees of the jungle. They have been flown to the nation's capital Bogota, where ambulances have taken them to hospital for further medical treatment.\\n\",\n",
       " 'The children\\'s grandmother, Fatima Valencia, said after their rescue: \"I am very grateful, and to mother earth as well, that they were set free.\" She said the eldest of the four siblings was used to looking after the other three when their mother was at work, and that this helped them survive in the jungle. \"She gave them flour and cassava bread, any fruit in the bush, they know what they must consume,\" Ms Valencia said in footage obtained by EVN.\\n',\n",
       " 'The Cessna 206 aircraft the children and their mother had been travelling on before the crash was flying from Araracuara, in Amazonas province, to San José del Guaviare, when it issued a mayday alert due to engine failure. The bodies of the three adults were found at the crash site by the army, but it appeared that the children had escaped the wreckage and wandered into the rainforest to find help.']"
      ]
     },
     "execution_count": 14,
     "metadata": {},
     "output_type": "execute_result"
    }
   ],
   "source": [
    "query_list = []\n",
    "with open ('humanwritten_en.txt', mode='r') as prompts: #change to 'humanwritten_nl.txt' if you prefer Dutch\n",
    "    for prompt in prompts: #for each row do the following\n",
    "        #query = prompt.split()\n",
    "        query_list.append(prompt)\n",
    "query_list"
   ]
  },
  {
   "cell_type": "code",
   "execution_count": 15,
   "id": "a3600798",
   "metadata": {},
   "outputs": [
    {
     "name": "stdout",
     "output_type": "stream",
     "text": [
      "tensor(35.6140, grad_fn=<ExpBackward0>)\n",
      "tensor(39.4342, grad_fn=<ExpBackward0>)\n",
      "tensor(41.6404, grad_fn=<ExpBackward0>)\n",
      "tensor(42.4313, grad_fn=<ExpBackward0>)\n",
      "tensor(34.4709, grad_fn=<ExpBackward0>)\n",
      "tensor(33.6071, grad_fn=<ExpBackward0>)\n",
      "tensor(44.7488, grad_fn=<ExpBackward0>)\n",
      "tensor(23.9217, grad_fn=<ExpBackward0>)\n",
      "tensor(32.5044, grad_fn=<ExpBackward0>)\n",
      "tensor(38.8445, grad_fn=<ExpBackward0>)\n"
     ]
    }
   ],
   "source": [
    "pp_list_human=[]\n",
    "for i in range(len(query_list)):\n",
    "    inputs_text = tokenizer(query_list[i], return_tensors = \"pt\")\n",
    "    loss = model(input_ids = inputs_text[\"input_ids\"], labels = inputs_text[\"input_ids\"]).loss\n",
    "    ppl = torch.exp(loss)\n",
    "    print(ppl)\n",
    "    pp_list_human.append(ppl)"
   ]
  },
  {
   "cell_type": "code",
   "execution_count": 16,
   "id": "1ae2cd88",
   "metadata": {},
   "outputs": [
    {
     "name": "stdout",
     "output_type": "stream",
     "text": [
      "35.614\n",
      "39.4342\n",
      "41.6404\n",
      "42.4313\n",
      "34.4709\n",
      "33.6071\n",
      "44.7488\n",
      "23.9217\n",
      "32.5044\n",
      "38.8445\n"
     ]
    }
   ],
   "source": [
    "human_text_perplexity= []\n",
    "for i in range(len(pp_list_human)):\n",
    "    tensor_string=str(pp_list_human[i])\n",
    "    a,b = tensor_string.split(\",\")\n",
    "    tensor, perplexity = a.split(\"(\")\n",
    "    print(float(perplexity))\n",
    "    human_text_perplexity.append(float(perplexity))"
   ]
  },
  {
   "cell_type": "markdown",
   "id": "fa398864",
   "metadata": {},
   "source": [
    "## 4. Comparing results and conclusion"
   ]
  },
  {
   "cell_type": "code",
   "execution_count": 17,
   "id": "4faa53a6",
   "metadata": {},
   "outputs": [
    {
     "name": "stdout",
     "output_type": "stream",
     "text": [
      "[10.2043, 9.9168, 8.8854, 7.8319, 13.0384, 11.3414, 9.9246, 13.8144, 11.8843, 11.6865, 35.614, 39.4342, 41.6404, 42.4313, 34.4709, 33.6071, 44.7488, 23.9217, 32.5044, 38.8445]\n",
      "20\n"
     ]
    }
   ],
   "source": [
    "#create one list\n",
    "results =ai_text_perplexity+human_text_perplexity\n",
    "print(results)\n",
    "print(len(results))"
   ]
  },
  {
   "cell_type": "code",
   "execution_count": 18,
   "id": "a382bec0",
   "metadata": {},
   "outputs": [
    {
     "data": {
      "image/png": "[encoded data removed]",
      "text/plain": [
       "<Figure size 640x480 with 1 Axes>"
      ]
     },
     "metadata": {},
     "output_type": "display_data"
    }
   ],
   "source": [
    "#create the plot\n",
    "import matplotlib.pyplot as plt\n",
    "x = [\"AI1\", \"AI2\", \"AI3\", \"AI4\", \"AI5\", \"AI6\",\"AI7\",\"AI8\",\"AI9\",\"AI10\", \"H1\",\"H2\",\"H3\",\"H4\",\"H5\",\"H6\",\"H7\",\"H8\",\"H9\",\"H10\",]\n",
    "y = results\n",
    "colors = ['red' if value > 20 else 'green' for value in y]\n",
    "\n",
    "# Create scatter plot\n",
    "plt.scatter(x, y, c=colors)\n",
    "\n",
    "# Customize plot\n",
    "plt.title('Human written text in red, AI generated text in green')\n",
    "plt.xlabel('X-axis - sample name.')\n",
    "plt.ylabel('Y-axis - perplexity score')\n",
    "\n",
    "# Display the plot\n",
    "plt.show()"
   ]
  },
  {
   "cell_type": "markdown",
   "id": "f70f6dc0",
   "metadata": {},
   "source": [
    "In this notebook we've compared 10 AI generated texts with 10 texts written by humans and calculated their perplexity. When we plotted the results we see a difference between AI-generated texts (low perplexity) and human written text (high perplexity). \n",
    "\n",
    "Without doubt, more testing is needed, especially with other types of text, to get more reliable results."
   ]
  },
  {
   "cell_type": "code",
   "execution_count": null,
   "id": "ce992b75",
   "metadata": {},
   "outputs": [],
   "source": []
  }
 ],
 "metadata": {
  "kernelspec": {
   "display_name": "Python 3 (ipykernel)",
   "language": "python",
   "name": "python3"
  },
  "language_info": {
   "codemirror_mode": {
    "name": "ipython",
    "version": 3
   },
   "file_extension": ".py",
   "mimetype": "text/x-python",
   "name": "python",
   "nbconvert_exporter": "python",
   "pygments_lexer": "ipython3",
   "version": "3.10.9"
  }
 },
 "nbformat": 4,
 "nbformat_minor": 5
}
