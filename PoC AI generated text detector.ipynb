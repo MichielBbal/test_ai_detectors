{
 "cells": [
  {
   "cell_type": "markdown",
   "id": "275024d2",
   "metadata": {},
   "source": [
    "# Can we use perplexity as a metric to detect AI generated text?\n",
    "\n",
    "### Why this notebook?\n",
    "With the rise of Generative AI in education, there is a growing need for teachers to check whether a text is written by a human or an AI. A possible metric to detect AI generated text is perplexity. In this notebook we will compare 5 AI generated texts with 5 human generated texts, calculate their perplexity and compare results.\n",
    "\n",
    "### TL;DR\n",
    "Yes, this works. (For the small set of given texts that is.)\n",
    "\n",
    "### Contents\n",
    "0. Install packages\n",
    "1. Settings\n",
    "2. Getting perplexity for 5 openAI generated texts\n",
    "3. Getting the perplexity for 5 human written texts\n",
    "4. Comparing results and conclusion\n",
    "\n",
    "### Sources\n",
    "The English human written text is from two articles:\n",
    "- https://www.economist.com/europe/2023/06/09/ukraines-assault-in-zaporizhia-may-be-the-focus-of-its-offensive\n",
    "- https://www.bbc.com/news/world-latin-america-65864158\n",
    "\n",
    "The Dutch human written text is from these two sources:\n",
    "https://www.nu.nl/binnenland/6267525/hitteprotocol-rijkswaterstaat-geldt-ook-maandag-behalve-in-het-noorden.html\n",
    "https://nos.nl/artikel/2478434-het-oekraiense-tegenoffensief-is-begonnen-hoe-staat-het-ervoor\n",
    "\n",
    "The AI generated text is from OpenAI GPT-3.5 using their API."
   ]
  },
  {
   "cell_type": "markdown",
   "id": "1c53dc23",
   "metadata": {},
   "source": [
    "## Calculating perplexity\n",
    "\n",
    "Perplexity is a metric that is used to measure the quality of language models. It is reversely related to the entropy of a model. \n",
    "\n",
    "\n",
    "- blog: https://medium.com/@priyankads/perplexity-of-language-models-41160427ed72\n",
    "- wiki: https://en.wikipedia.org/wiki/Perplexity\n",
    "- o'reilly: https://www.oreilly.com/library/view/natural-language-processing/9781787285101/ch21s05.html (to do)"
   ]
  },
  {
   "cell_type": "markdown",
   "id": "22b19a75",
   "metadata": {},
   "source": [
    "## 0. Install packages"
   ]
  },
  {
   "cell_type": "code",
   "execution_count": 132,
   "id": "5f80563e",
   "metadata": {},
   "outputs": [],
   "source": [
    "#pip install openai\n",
    "#pip install transformers\n",
    "#pip install torch"
   ]
  },
  {
   "cell_type": "markdown",
   "id": "de3eee16",
   "metadata": {},
   "source": [
    "## 1. Settings"
   ]
  },
  {
   "cell_type": "code",
   "execution_count": 179,
   "id": "60d37515",
   "metadata": {},
   "outputs": [],
   "source": [
    "#set API keys\n",
    "import os\n",
    "import config\n",
    "os.environ['OPENAI_API_KEY'] = config.openai_key # replace with your own API-key, but don't keep it in your source code :-)"
   ]
  },
  {
   "cell_type": "code",
   "execution_count": 180,
   "id": "2b902029",
   "metadata": {},
   "outputs": [],
   "source": [
    "#OpenAI settings\n",
    "import openai  # for calling the OpenAI API\n",
    "\n",
    "# models\n",
    "EMBEDDING_MODEL = \"text-embedding-ada-002\" #choose your embeddings model\n",
    "GPT_MODEL = \"gpt-3.5-turbo\" #choose the generative model"
   ]
  },
  {
   "cell_type": "markdown",
   "id": "27ddd46f",
   "metadata": {},
   "source": [
    "## 1. First perplexity result"
   ]
  },
  {
   "cell_type": "code",
   "execution_count": 6,
   "id": "0532c135",
   "metadata": {},
   "outputs": [],
   "source": [
    "#import packages and set tokens\n",
    "import transformers\n",
    "import torch\n",
    "from transformers import AutoModelForCausalLM, AutoTokenizer\n",
    "model = AutoModelForCausalLM.from_pretrained(\"gpt2\")\n",
    "tokenizer = AutoTokenizer.from_pretrained(\"gpt2\")"
   ]
  },
  {
   "cell_type": "code",
   "execution_count": 130,
   "id": "90e5f7a6",
   "metadata": {},
   "outputs": [
    {
     "name": "stdout",
     "output_type": "stream",
     "text": [
      "tensor(29.4841, grad_fn=<ExpBackward0>)\n",
      "The string is 49 characters\n"
     ]
    }
   ],
   "source": [
    "#provide an tokenizer, calculate loss and perplexity\n",
    "input_string=\"ABC is a startup based in New York City and Paris\"\n",
    "inputs = tokenizer(input_string, return_tensors = \"pt\")\n",
    "loss = model(input_ids = inputs[\"input_ids\"], labels = inputs[\"input_ids\"]).loss\n",
    "ppl = torch.exp(loss)\n",
    "print(ppl)\n",
    "print(f'The string is {len(input_string)} characters')"
   ]
  },
  {
   "cell_type": "code",
   "execution_count": 131,
   "id": "6f901374",
   "metadata": {},
   "outputs": [
    {
     "name": "stdout",
     "output_type": "stream",
     "text": [
      "tensor(211.8132, grad_fn=<ExpBackward0>)\n",
      "The string is 109 characters\n"
     ]
    }
   ],
   "source": [
    "#second example\n",
    "input_string =\"Generative Pretrained Transformer is an opensource artificial intelligence created by OpenAI in February 2019\"\n",
    "inputs_wiki_text = tokenizer(input_string, return_tensors = \"pt\")\n",
    "loss = model(input_ids = inputs_wiki_text[\"input_ids\"], labels = inputs_wiki_text[\"input_ids\"]).loss\n",
    "ppl = torch.exp(loss)\n",
    "print(ppl)\n",
    "print(f'The string is {len(input_string)} characters')"
   ]
  },
  {
   "cell_type": "markdown",
   "id": "e8c1caf9",
   "metadata": {},
   "source": [
    "## 2. Getting perplexity for 10 openAI generated texts"
   ]
  },
  {
   "cell_type": "code",
   "execution_count": 181,
   "id": "b21d9ba0",
   "metadata": {},
   "outputs": [
    {
     "data": {
      "text/plain": [
       "['Wat is een perceptron en wat is een multi layered perceptron?\\n',\n",
       " 'Wat is het verschil tussen machine leren en diep leren?\\n',\n",
       " 'Let het backpropagatie algoritme uit.\\n',\n",
       " 'Wie was Geoff Hinton en wat was zijn rol in de ontwikkeling van neurale netwerken?\\n',\n",
       " 'Hoe kunnen we onderscheid maken tussen een door een KI gegenereerde tekst en een door een mens geschreven tekst?\\n',\n",
       " 'Beschrijf het verschil tussen menselijke neuronen en kunstmatige neuronen\\n',\n",
       " 'Op welke manier zal generatieve KI de wereld gaan veranderen?\\n',\n",
       " 'Wat was er zo belangrijk aan het taalmodel BERT in het vak NLP.\\n',\n",
       " \"Leg uit waarom Meta's LLaMA beter is dan GPT3.5\\n\",\n",
       " 'Wat zijn Gaussian Mixtures?']"
      ]
     },
     "execution_count": 181,
     "metadata": {},
     "output_type": "execute_result"
    }
   ],
   "source": [
    "query_list = []\n",
    "with open ('prompts_nl.txt', mode='r') as prompts:\n",
    "    for prompt in prompts: #for each row do the following\n",
    "        #query = prompt.split()\n",
    "        query_list.append(prompt)\n",
    "query_list"
   ]
  },
  {
   "cell_type": "code",
   "execution_count": 182,
   "id": "49b99211",
   "metadata": {},
   "outputs": [],
   "source": [
    "oa_result_list =[] \n",
    "for i in range(len(query_list)):\n",
    "    query = query_list[i]\n",
    "\n",
    "    response = openai.ChatCompletion.create(\n",
    "        messages=[\n",
    "            {'role': 'system', 'content': ''},\n",
    "            {'role': 'user', 'content': query},\n",
    "        ],\n",
    "        model=GPT_MODEL,\n",
    "        temperature=0\n",
    "        \n",
    "        , #temperature is a parameter about the entropy of the model (the higher, the greater variation in results)\n",
    "    )\n",
    "\n",
    "    #print(response['choices'][0]['message']['content'])\n",
    "    openai_result = response['choices'][0]['message']['content']\n",
    "    oa_result_list.append(openai_result)"
   ]
  },
  {
   "cell_type": "code",
   "execution_count": 183,
   "id": "ac16e98e",
   "metadata": {},
   "outputs": [
    {
     "name": "stdout",
     "output_type": "stream",
     "text": [
      "10\n",
      "Een perceptron is een eenvoudig neuraal netwerkmodel dat bestaat uit één enkele laag van inputneuronen en één enkele uitvoerneuron. Het wordt gebruikt voor het classificeren van lineair scheidbare gegevens. Het kan bijvoorbeeld worden gebruikt om te bepalen of een afbeelding een hond of een kat bevat.\n",
      "\n",
      "Een multi-layer perceptron (MLP) is een neuraal netwerkmodel dat bestaat uit meerdere lagen van inputneuronen, verborgen neuronen en uitvoerneuronen. Het wordt gebruikt voor het classificeren van niet-lineair scheidbare gegevens. Het kan bijvoorbeeld worden gebruikt om te bepalen of een afbeelding een bepaald object bevat, zoals een auto of een fiets. MLP's worden vaak gebruikt in deep learning-toepassingen vanwege hun vermogen om complexe patronen in gegevens te leren en te herkennen.\n",
      "----------------------------------------------------------------------------------------------------\n",
      "Machine learning en deep learning zijn beide vormen van kunstmatige intelligentie, maar er zijn enkele belangrijke verschillen tussen de twee.\n",
      "\n",
      "Machine learning is een methode om computers te laten leren van gegevens zonder expliciet geprogrammeerd te worden. Het gaat om het trainen van een algoritme om patronen te herkennen en voorspellingen te doen op basis van gegevens. Machine learning-algoritmen kunnen worden gebruikt voor taken zoals beeldherkenning, spraakherkenning, voorspellende analyse en aanbevelingssystemen.\n",
      "\n",
      "Deep learning is een subset van machine learning die gebruik maakt van kunstmatige neurale netwerken om complexe taken uit te voeren. Het gaat om het trainen van een netwerk van neuronen om patronen te herkennen en voorspellingen te doen op basis van gegevens. Deep learning-algoritmen kunnen worden gebruikt voor taken zoals beeld- en spraakherkenning, natuurlijke taalverwerking en autonome voertuigen.\n",
      "\n",
      "Het belangrijkste verschil tussen machine learning en deep learning is dat deep learning meer complexe taken kan uitvoeren dan machine learning, omdat het gebruik maakt van meerdere lagen van neuronen om informatie te verwerken. Dit maakt deep learning geschikt voor taken waarbij veel gegevens en complexe patronen betrokken zijn, zoals beeld- en spraakherkenning.\n",
      "----------------------------------------------------------------------------------------------------\n",
      "Het backpropagatie algoritme is een algoritme dat wordt gebruikt om de fout van een neuraal netwerk te verminderen door de gewichten van de verbindingen tussen de neuronen aan te passen. Het algoritme bestaat uit de volgende stappen:\n",
      "\n",
      "1. Voorwaartse propagatie: De invoer wordt door het netwerk geleid en de uitvoer wordt berekend.\n",
      "\n",
      "2. Berekenen van de fout: De fout tussen de berekende uitvoer en de gewenste uitvoer wordt berekend.\n",
      "\n",
      "3. Achterwaartse propagatie: De fout wordt teruggevoerd door het netwerk en de gewichten van de verbindingen tussen de neuronen worden aangepast om de fout te verminderen.\n",
      "\n",
      "4. Herhaal stappen 1-3: Het proces wordt herhaald totdat de fout onder een bepaalde drempelwaarde komt of het netwerk voldoende is getraind.\n",
      "\n",
      "Het aanpassen van de gewichten gebeurt door middel van de kettingregel van de afgeleide. De afgeleide van de fout ten opzichte van de gewichten wordt berekend en de gewichten worden aangepast in de richting van de negatieve afgeleide. Dit proces wordt herhaald voor alle gewichten in het netwerk.\n",
      "\n",
      "Het backpropagatie algoritme is een belangrijk algoritme voor het trainen van neurale netwerken en wordt veel gebruikt in de machine learning en kunstmatige intelligentie.\n",
      "----------------------------------------------------------------------------------------------------\n",
      "Geoff Hinton is een gerenommeerde computerwetenschapper en pionier op het gebied van neurale netwerken en deep learning. Hij werd geboren in Londen in 1947 en studeerde wiskunde aan de Universiteit van Edinburgh voordat hij zijn doctoraat behaalde aan de Universiteit van Edinburgh in 1978.\n",
      "\n",
      "Hinton heeft een belangrijke rol gespeeld in de ontwikkeling van neurale netwerken en deep learning. Hij heeft verschillende belangrijke bijdragen geleverd aan het veld, waaronder de ontwikkeling van backpropagation, een algoritme dat wordt gebruikt om de gewichten van neurale netwerken aan te passen en zo de nauwkeurigheid van de voorspellingen te verbeteren.\n",
      "\n",
      "Hinton heeft ook bijgedragen aan de ontwikkeling van convolutionele neurale netwerken, die worden gebruikt voor beeldherkenning, en recurrente neurale netwerken, die worden gebruikt voor taalverwerking. Hij heeft verschillende prijzen en onderscheidingen ontvangen voor zijn werk, waaronder de Turing Award in 2018, die wordt beschouwd als de hoogste onderscheiding in de informatica.\n",
      "\n",
      "Hinton blijft een belangrijke figuur in het veld van neurale netwerken en deep learning en blijft onderzoek doen naar nieuwe methoden en toepassingen van deze technologieën.\n",
      "----------------------------------------------------------------------------------------------------\n",
      "Er zijn verschillende manieren om onderscheid te maken tussen een door een KI gegenereerde tekst en een door een mens geschreven tekst:\n",
      "\n",
      "1. Grammatica en spelling: KI's kunnen nog steeds moeite hebben met het correct gebruiken van grammatica en spelling, terwijl mensen dit meestal correct doen.\n",
      "\n",
      "2. Stijl en toon: Mensen hebben vaak een unieke stijl en toon in hun schrijven, terwijl KI's vaak een meer generieke en uniforme stijl hebben.\n",
      "\n",
      "3. Context en coherentie: Mensen kunnen beter begrijpen hoe hun schrijven past in de context van een bepaald onderwerp of verhaal, terwijl KI's soms moeite hebben om coherentie te behouden.\n",
      "\n",
      "4. Creativiteit en originaliteit: Mensen zijn vaak creatiever en kunnen originele ideeën bedenken, terwijl KI's vaak beperkt zijn tot het genereren van tekst op basis van bestaande gegevens.\n",
      "\n",
      "5. Emotie en empathie: Mensen kunnen emotie en empathie in hun schrijven opnemen, terwijl KI's dit nog niet kunnen.\n",
      "\n",
      "Het is belangrijk op te merken dat KI's steeds geavanceerder worden en soms moeilijk te onderscheiden zijn van menselijk geschreven tekst. Het is dus mogelijk dat in de toekomst nieuwe methoden nodig zijn om onderscheid te maken tussen deze twee soorten tekst.\n",
      "----------------------------------------------------------------------------------------------------\n",
      "Menselijke neuronen zijn biologische cellen die de basis vormen van het zenuwstelsel. Ze zijn verantwoordelijk voor het ontvangen, verwerken en doorgeven van informatie in het lichaam. Menselijke neuronen hebben een complexe structuur en zijn in staat om te communiceren met andere neuronen door middel van elektrische en chemische signalen.\n",
      "\n",
      "Kunstmatige neuronen zijn computerprogramma's die zijn ontworpen om de functies van menselijke neuronen na te bootsen. Ze zijn gebaseerd op wiskundige modellen en algoritmen en worden gebruikt in kunstmatige neurale netwerken. Kunstmatige neuronen hebben een veel eenvoudigere structuur dan menselijke neuronen en zijn niet in staat om te communiceren met andere neuronen door middel van elektrische en chemische signalen.\n",
      "\n",
      "Het belangrijkste verschil tussen menselijke neuronen en kunstmatige neuronen is dat menselijke neuronen biologische cellen zijn die in staat zijn om te leren en zich aan te passen aan veranderende omstandigheden, terwijl kunstmatige neuronen geprogrammeerd zijn en alleen kunnen functioneren binnen de grenzen van hun programmering. Menselijke neuronen zijn ook veel complexer dan kunstmatige neuronen en zijn in staat om een veel breder scala aan taken uit te voeren.\n",
      "----------------------------------------------------------------------------------------------------\n",
      "Generatieve KI zal de wereld op verschillende manieren veranderen. Hier zijn enkele voorbeelden:\n",
      "\n",
      "1. Kunstmatige creativiteit: Generatieve KI kan worden gebruikt om nieuwe kunstwerken, muziekstukken en literatuur te creëren. Dit kan leiden tot een nieuwe vorm van kunst en cultuur die anders niet mogelijk zou zijn geweest.\n",
      "\n",
      "2. Personalisatie: Generatieve KI kan worden gebruikt om gepersonaliseerde producten en diensten te creëren, zoals gepersonaliseerde advertenties, aanbevelingen en productontwerpen. Dit kan leiden tot een betere klantervaring en meer efficiëntie in de productie.\n",
      "\n",
      "3. Automatisering: Generatieve KI kan worden gebruikt om taken en processen te automatiseren die momenteel door mensen worden uitgevoerd. Dit kan leiden tot meer efficiëntie en kostenbesparingen in verschillende sectoren, zoals de productie, logistiek en gezondheidszorg.\n",
      "\n",
      "4. Nieuwe mogelijkheden: Generatieve KI kan nieuwe mogelijkheden creëren die momenteel niet bestaan. Bijvoorbeeld, het kan worden gebruikt om nieuwe materialen te ontwikkelen die sterker en lichter zijn dan de huidige materialen, of om nieuwe geneesmiddelen te ontdekken die momenteel niet bekend zijn.\n",
      "\n",
      "Over het algemeen zal generatieve KI de wereld veranderen door nieuwe mogelijkheden te creëren, bestaande processen te verbeteren en nieuwe vormen van creativiteit en personalisatie mogelijk te maken.\n",
      "----------------------------------------------------------------------------------------------------\n",
      "BERT (Bidirectional Encoder Representations from Transformers) is een taalmodel dat in 2018 werd geïntroduceerd door Google. Het is een belangrijke doorbraak in het vakgebied van Natural Language Processing (NLP) omdat het de prestaties van taalmodellen aanzienlijk heeft verbeterd.\n",
      "\n",
      "Wat BERT zo belangrijk maakt, is dat het een transformer-gebaseerd model is dat gebruikmaakt van bi-directionele training. Dit betekent dat het model niet alleen naar de woorden vóór een bepaald woord kijkt, maar ook naar de woorden erna. Hierdoor kan het model beter begrijpen hoe woorden in een zin met elkaar samenhangen en hoe de betekenis van een woord kan veranderen afhankelijk van de context waarin het wordt gebruikt.\n",
      "\n",
      "BERT heeft ook een grote impact gehad op verschillende NLP-taken, zoals tekstclassificatie, vraag-antwoord-systemen en natuurlijke taalgeneratie. Het heeft de prestaties van deze taken aanzienlijk verbeterd en heeft geleid tot nieuwe toepassingen van NLP in verschillende domeinen, zoals chatbots, sentimentanalyse en machinevertaling.\n",
      "\n",
      "Kortom, BERT is belangrijk omdat het heeft bijgedragen aan de ontwikkeling van betere taalmodellen en heeft geleid tot nieuwe toepassingen van NLP in verschillende domeinen.\n",
      "----------------------------------------------------------------------------------------------------\n",
      "Als AI-assistent kan ik geen persoonlijke voorkeur uiten, maar ik kan wel de verschillen tussen Meta's LLaMA en GPT3.5 uitleggen.\n",
      "\n",
      "Meta's LLaMA is een AI-model dat specifiek is ontworpen voor het genereren van natuurlijke taal in de context van vraag- en antwoordgesprekken. Het is getraind op een enorme dataset van vragen en antwoorden en kan daardoor zeer nauwkeurige en relevante antwoorden genereren op gestelde vragen. Bovendien is LLaMA in staat om de context van een vraag te begrijpen en kan het antwoorden genereren die passen bij de specifieke situatie.\n",
      "\n",
      "GPT3.5 is een AI-model dat is ontworpen voor het genereren van natuurlijke taal in verschillende contexten, waaronder tekstgeneratie, vertaling en samenvatting. Het is getraind op een enorme dataset van teksten en kan daardoor zeer goed teksten genereren die grammaticaal correct zijn en een natuurlijke stijl hebben. Echter, GPT3.5 is niet specifiek ontworpen voor vraag- en antwoordgesprekken en kan daardoor minder nauwkeurige en relevante antwoorden genereren op gestelde vragen.\n",
      "\n",
      "Dus, als het gaat om het genereren van antwoorden op gestelde vragen, is Meta's LLaMA beter geschikt dan GPT3.5 vanwege zijn specifieke training op vraag- en antwoordgesprekken en zijn vermogen om de context van een vraag te begrijpen.\n",
      "----------------------------------------------------------------------------------------------------\n",
      "Gaussian Mixtures zijn een statistische methode voor het modelleren van complexe verdelingen van gegevens. Het is een combinatie van meerdere Gaussische verdelingen (ook bekend als normale verdelingen) die samen een gemengde verdeling vormen. Elke Gaussische verdeling in de mix vertegenwoordigt een cluster van gegevenspunten in de dataset. Door de parameters van de Gaussische verdelingen te schatten, kan de mix worden gebruikt om de verdeling van de gegevens te modelleren en te analyseren. Gaussian Mixtures worden vaak gebruikt in patroonherkenning, clustering en beeldverwerking.\n",
      "----------------------------------------------------------------------------------------------------\n"
     ]
    }
   ],
   "source": [
    "print(len(oa_result_list))\n",
    "for i in range(len(oa_result_list)):\n",
    "    print(oa_result_list[i])\n",
    "    print(100*'-')"
   ]
  },
  {
   "cell_type": "code",
   "execution_count": 184,
   "id": "095c7edf",
   "metadata": {},
   "outputs": [
    {
     "name": "stdout",
     "output_type": "stream",
     "text": [
      "tensor(46.4538, grad_fn=<ExpBackward0>)\n",
      "tensor(54.4719, grad_fn=<ExpBackward0>)\n",
      "tensor(41.6338, grad_fn=<ExpBackward0>)\n",
      "tensor(54.8350, grad_fn=<ExpBackward0>)\n",
      "tensor(55.4038, grad_fn=<ExpBackward0>)\n",
      "tensor(53.5894, grad_fn=<ExpBackward0>)\n",
      "tensor(46.7678, grad_fn=<ExpBackward0>)\n",
      "tensor(108.6322, grad_fn=<ExpBackward0>)\n",
      "tensor(34.4767, grad_fn=<ExpBackward0>)\n",
      "tensor(82.5210, grad_fn=<ExpBackward0>)\n"
     ]
    }
   ],
   "source": [
    "#getting the perplexity tensor for the openai generated text\n",
    "perplexity_list =[]\n",
    "for i in range(len(oa_result_list)):\n",
    "    inputs_text = tokenizer(oa_result_list[i], return_tensors = \"pt\")\n",
    "    loss = model(input_ids = inputs_text[\"input_ids\"], labels = inputs_text[\"input_ids\"]).loss\n",
    "    ppl = torch.exp(loss)\n",
    "    print(ppl)\n",
    "    perplexity_list.append(ppl)"
   ]
  },
  {
   "cell_type": "code",
   "execution_count": 185,
   "id": "73406aca",
   "metadata": {},
   "outputs": [
    {
     "data": {
      "text/plain": [
       "[46.4538,\n",
       " 54.4719,\n",
       " 41.6338,\n",
       " 54.835,\n",
       " 55.4038,\n",
       " 53.5894,\n",
       " 46.7678,\n",
       " 108.6322,\n",
       " 34.4767,\n",
       " 82.521]"
      ]
     },
     "execution_count": 185,
     "metadata": {},
     "output_type": "execute_result"
    }
   ],
   "source": [
    "#converting tensors to string and getting just the values\n",
    "ai_text_perplexity= []\n",
    "for i in range(len(perplexity_list)):\n",
    "    tensor_string=str(perplexity_list[i])\n",
    "    a,b = tensor_string.split(\",\")\n",
    "    tensor, perplexity = a.split(\"(\")\n",
    "    ai_text_perplexity.append(float(perplexity))\n",
    "ai_text_perplexity"
   ]
  },
  {
   "cell_type": "markdown",
   "id": "aee42485",
   "metadata": {},
   "source": [
    "## 3. Getting the perplexity for 10 human written texts"
   ]
  },
  {
   "cell_type": "code",
   "execution_count": 191,
   "id": "fff8aa45",
   "metadata": {},
   "outputs": [
    {
     "data": {
      "text/plain": [
       "['Het hitteprotocol van Rijkswaterstaat geldt ook maandag. Dat houdt in dat weggebruikers die met pech langs de weg staan, direct worden geholpen. Vandaag is het protocol in heel Nederland van kracht, maandag in alle provincies behalve Friesland, Groningen en Drenthe.\\n',\n",
       " 'Het hitteprotocol geldt maandag van 10.00 tot 22.00 uur. Ook zaterdag was het in de meeste provincies van kracht wegens de tropische temperaturen. Zodra er een grote kans is dat het 30 graden of warmer wordt, zet Rijkswaterstaat het protocol in. Rijkswaterstaat wil niet dat gestrande weggebruikers bij hoge temperaturen langdurig in de zon moeten wachten.\\n',\n",
       " 'Daarom is het de bedoeling dat mensen bij autopech zo snel mogelijk door een berger naar een plek met voorzieningen worden gebracht, zoals een tankstation. Weggebruikers krijgen het advies goed voorbereid op weg te gaan en alert te zijn bij hitte. Zo adviseert Rijkswaterstaat genoeg drinkwater en een paraplu tegen de zon in de auto te leggen.\\n',\n",
       " 'Hoe effectief zal de Russische luchtmacht zijn? En hoe effectief de Oekraïense luchtverdediging? Volgens oud-commandant Landstrijdkrachten Mart de Kruif zijn dat de cruciale kwesties die zullen bepalen hoe het Oekraïense tegenoffensief, dat de afgelopen dagen echt op gang is gekomen, zal uitpakken. \"Het is een onderbuikgevoel, maar ik denk dat we over een week meer weten.\"\\n',\n",
       " 'De Oekraïners zijn deze week op meerdere plaatsen langs het 800 tot 900 kilometer lange front in de aanval. De strijd is intensief en bloedig. Onduidelijk is nog wat het hoofddoel van het offensief wordt, ook voor De Kruif. \"De regio Zaporizja is de meest logische optie. Dan kun je naar de Zee van Azov doorstoten en verbreek je de landverbinding tussen Rusland en de Krim. Maar je kunt ook heel veel terrein terugwinnen in Loehansk en dan naar het noorden toe richting Charkiv.\"\\n',\n",
       " 'De uitkomst van oorlogen en veldslagen wordt vaak bepaald door reserves, omdat dat vaak ervaren en goed getrainde militairen zijn. Rusland zal zijn reserves daar willen inzetten waar het gevaar van een doorbraak het grootst is, denkt De Kruif. Oekraïne zal er alles aan doen om de Russen te misleiden, zodat de kans dat Oekraïners Russische reserves tegenkomen zo klein mogelijk is, of dat die reserves te laat komen.\\n',\n",
       " 'In verband daarmee is de kromming die de frontlijn laat zien in het voordeel van Oekraïne en in het nadeel van de Russen. \"Oekraïne kan eenheden relatief snel over eigen gebied van noord naar zuid en van zuid naar noord brengen. Rusland heeft het probleem van de buitenlijn. Die moeten vanwege de kromming in het front bijna altijd buitenom.\"\\n',\n",
       " 'Op dit moment wordt op verschillende plekken gevochten. \"Het is nog niet duidelijk waar de hoofdaanval komt\", zegt De Kruif. \"Je dwingt zo Rusland om voortdurend de keuze te maken: waar ga ik de reserves opstellen of zelf inzetten om een doorbraak tegen te gaan?\"\\n',\n",
       " 'Een van de grootste zorgen aan Oekraïense kant is dat als ze die doorbraak hebben, de Russische luchtmacht daar massaal op gaat ingrijpen. Dus Oekraïne zal daar ook het gros van zijn luchtverdediging moeten positioneren, inclusief de jachtvliegtuigen die de Russische luchtmacht daar moet weghouden. \"Je moet al je middelen op het goede moment op de juiste plaats hebben staan. Dat doe je niet zomaar, het is een kwestie van dagen en weken om dat te plannen.\"\\n',\n",
       " 'Op sociale media gaan intussen beelden rond van door het Westen geleverde tanks, die door de Russen worden vernietigd. De Kruif zag de beelden ook. \"Ook een Leopard 2 kan stuk. Al eerder hebben Koerden in Noord-Syrië een Turkse Leopard 2 uitgeschakeld. Een voertuig is alleen maar effectief als je het goed gebruikt, op de juiste wijze het terrein gebruikt, anders ben je altijd kwetsbaar.\"']"
      ]
     },
     "execution_count": 191,
     "metadata": {},
     "output_type": "execute_result"
    }
   ],
   "source": [
    "query_list = []\n",
    "with open ('humanwritten_nl.txt', mode='r') as prompts:\n",
    "    for prompt in prompts: #for each row do the following\n",
    "        #query = prompt.split()\n",
    "        query_list.append(prompt)\n",
    "query_list"
   ]
  },
  {
   "cell_type": "code",
   "execution_count": 192,
   "id": "a3600798",
   "metadata": {},
   "outputs": [
    {
     "name": "stdout",
     "output_type": "stream",
     "text": [
      "tensor(211.6711, grad_fn=<ExpBackward0>)\n",
      "tensor(222.4663, grad_fn=<ExpBackward0>)\n",
      "tensor(304.6771, grad_fn=<ExpBackward0>)\n",
      "tensor(326.6619, grad_fn=<ExpBackward0>)\n",
      "tensor(327.4499, grad_fn=<ExpBackward0>)\n",
      "tensor(305.0379, grad_fn=<ExpBackward0>)\n",
      "tensor(141.3531, grad_fn=<ExpBackward0>)\n",
      "tensor(360.3304, grad_fn=<ExpBackward0>)\n",
      "tensor(153.0569, grad_fn=<ExpBackward0>)\n",
      "tensor(207.1511, grad_fn=<ExpBackward0>)\n"
     ]
    }
   ],
   "source": [
    "pp_list_human=[]\n",
    "for i in range(len(query_list)):\n",
    "    inputs_text = tokenizer(query_list[i], return_tensors = \"pt\")\n",
    "    loss = model(input_ids = inputs_text[\"input_ids\"], labels = inputs_text[\"input_ids\"]).loss\n",
    "    ppl = torch.exp(loss)\n",
    "    print(ppl)\n",
    "    pp_list_human.append(ppl)"
   ]
  },
  {
   "cell_type": "code",
   "execution_count": 193,
   "id": "1ae2cd88",
   "metadata": {},
   "outputs": [
    {
     "name": "stdout",
     "output_type": "stream",
     "text": [
      "211.6711\n",
      "222.4663\n",
      "304.6771\n",
      "326.6619\n",
      "327.4499\n",
      "305.0379\n",
      "141.3531\n",
      "360.3304\n",
      "153.0569\n",
      "207.1511\n"
     ]
    }
   ],
   "source": [
    "human_text_perplexity= []\n",
    "for i in range(len(pp_list_human)):\n",
    "    tensor_string=str(pp_list_human[i])\n",
    "    a,b = tensor_string.split(\",\")\n",
    "    tensor, perplexity = a.split(\"(\")\n",
    "    print(float(perplexity))\n",
    "    human_text_perplexity.append(float(perplexity))"
   ]
  },
  {
   "cell_type": "markdown",
   "id": "fa398864",
   "metadata": {},
   "source": [
    "## 4. Comparing results and conclusion"
   ]
  },
  {
   "cell_type": "code",
   "execution_count": 194,
   "id": "4faa53a6",
   "metadata": {},
   "outputs": [
    {
     "name": "stdout",
     "output_type": "stream",
     "text": [
      "[46.4538, 54.4719, 41.6338, 54.835, 55.4038, 53.5894, 46.7678, 108.6322, 34.4767, 82.521, 211.6711, 222.4663, 304.6771, 326.6619, 327.4499, 305.0379, 141.3531, 360.3304, 153.0569, 207.1511]\n",
      "20\n"
     ]
    }
   ],
   "source": [
    "#create one list\n",
    "results =ai_text_perplexity+human_text_perplexity\n",
    "print(results)\n",
    "print(len(results))"
   ]
  },
  {
   "cell_type": "code",
   "execution_count": 196,
   "id": "a382bec0",
   "metadata": {},
   "outputs": [
    {
     "data": {
      "image/png": "[encoded data removed]",
      "text/plain": [
       "<Figure size 640x480 with 1 Axes>"
      ]
     },
     "metadata": {},
     "output_type": "display_data"
    }
   ],
   "source": [
    "#create the plot\n",
    "import matplotlib.pyplot as plt\n",
    "x = [\"AI1\", \"AI2\", \"AI3\", \"AI4\", \"AI5\", \"AI6\",\"AI7\",\"AI8\",\"AI9\",\"AI10\", \"H1\",\"H2\",\"H3\",\"H4\",\"H5\",\"H6\",\"H7\",\"H8\",\"H9\",\"H10\",]\n",
    "y = results\n",
    "colors = ['red' if value > 130 else 'green' for value in y]\n",
    "\n",
    "# Create scatter plot\n",
    "plt.scatter(x, y, c=colors)\n",
    "\n",
    "# Customize plot\n",
    "plt.title('Human written text in red, AI generated text in green')\n",
    "plt.xlabel('X-axis - sample name.')\n",
    "plt.ylabel('Y-axis - perplexity score')\n",
    "\n",
    "# Display the plot\n",
    "plt.show()"
   ]
  },
  {
   "cell_type": "markdown",
   "id": "f70f6dc0",
   "metadata": {},
   "source": [
    "In this notebook we've compared 10 AI generated texts with 10 texts written by humans and calculated their perplexity. When we plotted the results we see a difference between AI-generated texts (low perplexity) and human written text (high perplexity). \n",
    "\n",
    "Without doubt, more testing is needed, especially with other types of text, to get more reliable results."
   ]
  },
  {
   "cell_type": "code",
   "execution_count": null,
   "id": "ce992b75",
   "metadata": {},
   "outputs": [],
   "source": []
  }
 ],
 "metadata": {
  "kernelspec": {
   "display_name": "Python 3 (ipykernel)",
   "language": "python",
   "name": "python3"
  },
  "language_info": {
   "codemirror_mode": {
    "name": "ipython",
    "version": 3
   },
   "file_extension": ".py",
   "mimetype": "text/x-python",
   "name": "python",
   "nbconvert_exporter": "python",
   "pygments_lexer": "ipython3",
   "version": "3.10.9"
  }
 },
 "nbformat": 4,
 "nbformat_minor": 5
}
