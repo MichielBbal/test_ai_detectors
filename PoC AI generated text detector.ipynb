{
 "cells": [
  {
   "cell_type": "markdown",
   "id": "275024d2",
   "metadata": {},
   "source": [
    "# Can we use perplexity as a metric to detect AI generated text?\n",
    "\n",
    "### Why this notebook?\n",
    "With the rise of Generative AI in education, there is a growing need for teachers to check whether a text is written by a human or an AI. A possible metric to detect AI generated text is perplexity. In this notebook we will compare 5 AI generated texts with 5 human generated texts, calculate their perplexity and compare results.\n",
    "\n",
    "### TL;DR\n",
    "Yes, this works. (For the small set of given texts that is.)\n",
    "\n",
    "### Contents\n",
    "0. Install packages\n",
    "1. Settings\n",
    "2. Getting perplexity for 10 openAI generated texts\n",
    "3. Getting the perplexity for 10 human written texts\n",
    "4. Comparing results and conclusion\n",
    "\n",
    "### Sources\n",
    "The English human written text is from two articles:\n",
    "- https://www.economist.com/europe/2023/06/09/ukraines-assault-in-zaporizhia-may-be-the-focus-of-its-offensive\n",
    "- https://www.bbc.com/news/world-latin-america-65864158\n",
    "\n",
    "The Dutch human written text is from these two sources:\n",
    "- https://www.nu.nl/binnenland/6267525/hitteprotocol-rijkswaterstaat-geldt-ook-maandag-behalve-in-het-noorden.html\n",
    "- https://nos.nl/artikel/2478434-het-oekraiense-tegenoffensief-is-begonnen-hoe-staat-het-ervoor\n",
    "\n",
    "The AI generated text is from OpenAI GPT-3.5 using their API."
   ]
  },
  {
   "cell_type": "markdown",
   "id": "1c53dc23",
   "metadata": {},
   "source": [
    "## Calculating perplexity\n",
    "\n",
    "Perplexity is a metric that is used to measure the quality of language models. It is reversely related to the entropy of a model. \n",
    "\n",
    "\n",
    "- blog: https://medium.com/@priyankads/perplexity-of-language-models-41160427ed72\n",
    "- wiki: https://en.wikipedia.org/wiki/Perplexity\n",
    "- o'reilly: https://www.oreilly.com/library/view/natural-language-processing/9781787285101/ch21s05.html (to do)"
   ]
  },
  {
   "cell_type": "markdown",
   "id": "22b19a75",
   "metadata": {},
   "source": [
    "## 0. Install packages"
   ]
  },
  {
   "cell_type": "code",
   "execution_count": 132,
   "id": "5f80563e",
   "metadata": {},
   "outputs": [],
   "source": [
    "#pip install openai\n",
    "#pip install transformers\n",
    "#pip install torch"
   ]
  },
  {
   "cell_type": "markdown",
   "id": "de3eee16",
   "metadata": {},
   "source": [
    "## 1. Settings"
   ]
  },
  {
   "cell_type": "code",
   "execution_count": 179,
   "id": "60d37515",
   "metadata": {},
   "outputs": [],
   "source": [
    "#set API keys\n",
    "import os\n",
    "import config\n",
    "os.environ['OPENAI_API_KEY'] = config.openai_key # replace with your own API-key, but don't keep it in your source code :-)"
   ]
  },
  {
   "cell_type": "code",
   "execution_count": 180,
   "id": "2b902029",
   "metadata": {},
   "outputs": [],
   "source": [
    "#OpenAI settings\n",
    "import openai  # for calling the OpenAI API\n",
    "\n",
    "# models\n",
    "EMBEDDING_MODEL = \"text-embedding-ada-002\" #choose your embeddings model\n",
    "GPT_MODEL = \"gpt-3.5-turbo\" #choose the generative model"
   ]
  },
  {
   "cell_type": "markdown",
   "id": "e8c1caf9",
   "metadata": {},
   "source": [
    "## 2. Getting perplexity for 10 openAI generated texts"
   ]
  },
  {
   "cell_type": "code",
   "execution_count": 197,
   "id": "b21d9ba0",
   "metadata": {},
   "outputs": [
    {
     "data": {
      "text/plain": [
       "['What is a perceptron and what is a Multi Layered Percetpron?\\n',\n",
       " 'What is the difference between Machine Learning and Deep Learning\\n',\n",
       " 'Explain the backpropagation algorithm.\\n',\n",
       " 'Describe who Geoff Hinton is and what was his role in developing Neural Networks?\\n',\n",
       " 'How can we detect whether a text is written by a human or a generative AI?\\n',\n",
       " 'Describe the difference between human and artificial neurons\\n',\n",
       " 'In what way will generative AI transform the world\\n',\n",
       " 'Why was the language model BERT important for the field of NLP\\n',\n",
       " \"Explain why Meta's LLamA is better than GPT3.5?\\n\",\n",
       " 'Explain what Gaussian Mixtures are.']"
      ]
     },
     "execution_count": 197,
     "metadata": {},
     "output_type": "execute_result"
    }
   ],
   "source": [
    "query_list = []\n",
    "with open ('prompts_en.txt', mode='r') as prompts: #change to 'prompts_nl.txt' for Dutch prompts\n",
    "    for prompt in prompts: #for each row do the following\n",
    "        #query = prompt.split()\n",
    "        query_list.append(prompt)\n",
    "query_list"
   ]
  },
  {
   "cell_type": "code",
   "execution_count": 198,
   "id": "49b99211",
   "metadata": {},
   "outputs": [],
   "source": [
    "oa_result_list =[] \n",
    "for i in range(len(query_list)):\n",
    "    query = query_list[i]\n",
    "\n",
    "    response = openai.ChatCompletion.create(\n",
    "        messages=[\n",
    "            {'role': 'system', 'content': ''},\n",
    "            {'role': 'user', 'content': query},\n",
    "        ],\n",
    "        model=GPT_MODEL,\n",
    "        temperature=0\n",
    "        \n",
    "        , #temperature is a parameter about the entropy of the model (the higher, the greater variation in results)\n",
    "    )\n",
    "\n",
    "    #print(response['choices'][0]['message']['content'])\n",
    "    openai_result = response['choices'][0]['message']['content']\n",
    "    oa_result_list.append(openai_result)"
   ]
  },
  {
   "cell_type": "code",
   "execution_count": 200,
   "id": "ac16e98e",
   "metadata": {},
   "outputs": [
    {
     "name": "stdout",
     "output_type": "stream",
     "text": [
      "10\n",
      "A perceptron is a type of artificial neural network that is used for supervised learning. It consists of a single layer of artificial neurons that are connected to each other. Each neuron receives input from the previous layer and produces an output that is passed on to the next layer.\n",
      "\n",
      "A multi-layered perceptron (MLP) is a type of neural network that consists of multiple layers of artificial neurons. The first layer receives input from the outside world, and each subsequent layer receives input from the previous layer. The output of the last layer is the final output of the network.\n",
      "\n",
      "MLPs are used for a variety of tasks, including classification, regression, and pattern recognition. They are particularly useful for tasks that involve complex input data, such as images or speech. MLPs can be trained using a variety of algorithms, including backpropagation, which adjusts the weights of the connections between neurons to minimize the error between the predicted output and the actual output.\n",
      "----------------------------------------------------------------------------------------------------\n",
      "Machine learning and deep learning are both subsets of artificial intelligence, but they differ in their approach and complexity.\n",
      "\n",
      "Machine learning is a method of teaching computers to learn from data without being explicitly programmed. It involves the use of algorithms that can learn from and make predictions on data. Machine learning algorithms can be supervised, unsupervised, or semi-supervised.\n",
      "\n",
      "Deep learning, on the other hand, is a subset of machine learning that involves the use of artificial neural networks to learn from data. These neural networks are modeled after the human brain and are capable of learning and making decisions on their own. Deep learning algorithms are capable of processing large amounts of data and can be used for tasks such as image and speech recognition.\n",
      "\n",
      "In summary, machine learning is a broader term that encompasses various techniques for teaching computers to learn from data, while deep learning is a more complex subset of machine learning that involves the use of artificial neural networks.\n",
      "----------------------------------------------------------------------------------------------------\n",
      "The backpropagation algorithm is a supervised learning algorithm used for training artificial neural networks. It is a method for calculating the gradient of the loss function with respect to the weights of the network, which is used to update the weights during training.\n",
      "\n",
      "The algorithm works by propagating the error backwards through the network, from the output layer to the input layer. The error is calculated as the difference between the predicted output and the actual output for a given input. The error is then used to update the weights of the network, with the goal of minimizing the loss function.\n",
      "\n",
      "The backpropagation algorithm consists of two main steps: forward propagation and backward propagation. In the forward propagation step, the input is fed through the network and the output is calculated. In the backward propagation step, the error is calculated and propagated backwards through the network, updating the weights as it goes.\n",
      "\n",
      "The algorithm uses the chain rule of calculus to calculate the gradient of the loss function with respect to each weight in the network. This gradient is then used to update the weights using an optimization algorithm such as stochastic gradient descent.\n",
      "\n",
      "The backpropagation algorithm is a powerful tool for training neural networks, and has been used in a wide range of applications, including image recognition, natural language processing, and speech recognition.\n",
      "----------------------------------------------------------------------------------------------------\n",
      "Geoff Hinton is a renowned computer scientist and cognitive psychologist who is widely regarded as one of the pioneers of deep learning and artificial intelligence. He is a professor at the University of Toronto and a researcher at Google Brain.\n",
      "\n",
      "Hinton's work in developing neural networks began in the 1980s, when he and his colleagues developed the backpropagation algorithm, which is used to train neural networks. This algorithm allowed neural networks to learn from large amounts of data and make predictions based on that data.\n",
      "\n",
      "Hinton's research has focused on developing deep neural networks, which are capable of learning complex patterns and relationships in data. He has also worked on developing algorithms for unsupervised learning, which allows neural networks to learn from data without being explicitly told what to look for.\n",
      "\n",
      "Hinton's contributions to the field of neural networks have been instrumental in advancing the field of artificial intelligence. His work has led to breakthroughs in speech recognition, image recognition, and natural language processing, among other areas. He has received numerous awards and honors for his contributions to the field, including the Turing Award in 2018.\n",
      "----------------------------------------------------------------------------------------------------\n",
      "There are several ways to detect whether a text is written by a human or a generative AI:\n",
      "\n",
      "1. Style and tone: Human writing tends to have a consistent style and tone, while AI-generated text may have inconsistencies or lack a distinct voice.\n",
      "\n",
      "2. Grammar and syntax: AI-generated text may have errors in grammar and syntax that are not typical of human writing.\n",
      "\n",
      "3. Context and coherence: Human writing tends to be more coherent and contextually relevant, while AI-generated text may lack coherence or relevance to the topic.\n",
      "\n",
      "4. Repetition and randomness: AI-generated text may have repetitive patterns or random phrases that are not typical of human writing.\n",
      "\n",
      "5. Metadata: Some AI-generated text may have metadata that indicates it was generated by a machine, such as a timestamp or author name.\n",
      "\n",
      "Overall, detecting whether a text is written by a human or a generative AI requires a combination of linguistic analysis and contextual understanding.\n",
      "----------------------------------------------------------------------------------------------------\n",
      "Human neurons are biological cells that make up the nervous system and are responsible for transmitting information throughout the body. They have a cell body, dendrites, and an axon, which allows them to receive and transmit electrical signals.\n",
      "\n",
      "Artificial neurons, on the other hand, are electronic components that are designed to mimic the behavior of biological neurons. They are typically made up of a few basic components, such as a threshold function, an activation function, and a set of weights that determine how the neuron responds to different inputs.\n",
      "\n",
      "One of the key differences between human and artificial neurons is that human neurons are capable of complex processing and learning, while artificial neurons are typically designed to perform specific tasks based on pre-programmed rules. Additionally, human neurons are capable of adapting and changing over time, while artificial neurons require manual adjustments to their programming in order to change their behavior.\n",
      "----------------------------------------------------------------------------------------------------\n",
      "Generative AI has the potential to transform the world in numerous ways, including:\n",
      "\n",
      "1. Creative industries: Generative AI can be used to create new and innovative designs, music, and art. This can lead to a new era of creativity and innovation in industries such as fashion, music, and advertising.\n",
      "\n",
      "2. Personalization: Generative AI can be used to create personalized experiences for individuals, such as personalized recommendations for products and services based on their preferences and behavior.\n",
      "\n",
      "3. Healthcare: Generative AI can be used to develop new drugs and treatments, as well as to analyze medical data to identify patterns and predict outcomes.\n",
      "\n",
      "4. Education: Generative AI can be used to create personalized learning experiences for students, as well as to develop new educational materials and tools.\n",
      "\n",
      "5. Business: Generative AI can be used to automate tasks and processes, leading to increased efficiency and productivity in businesses.\n",
      "\n",
      "Overall, generative AI has the potential to revolutionize many aspects of our lives, leading to new opportunities and advancements in various industries.\n",
      "----------------------------------------------------------------------------------------------------\n",
      "The language model BERT (Bidirectional Encoder Representations from Transformers) was important for the field of NLP (Natural Language Processing) for several reasons:\n",
      "\n",
      "1. Pre-training: BERT was pre-trained on a large corpus of text data, which allowed it to learn the nuances of language and develop a deep understanding of the context in which words are used.\n",
      "\n",
      "2. Bidirectional: BERT is a bidirectional model, which means it can take into account the context of a word not only from the left but also from the right. This allows it to better understand the meaning of a word in a sentence.\n",
      "\n",
      "3. Transfer learning: BERT's pre-training allows it to be fine-tuned for a wide range of NLP tasks, such as sentiment analysis, question answering, and text classification. This makes it a versatile tool for NLP researchers and practitioners.\n",
      "\n",
      "4. State-of-the-art performance: BERT achieved state-of-the-art performance on several NLP benchmarks, including the GLUE benchmark, which measures the performance of models on a range of NLP tasks. This demonstrated the effectiveness of BERT's pre-training and bidirectional architecture.\n",
      "\n",
      "Overall, BERT has had a significant impact on the field of NLP, advancing the state-of-the-art in several NLP tasks and providing a powerful tool for researchers and practitioners.\n",
      "----------------------------------------------------------------------------------------------------\n",
      "As an AI language model, Meta's LLamA and GPT-3.5 have different strengths and weaknesses. However, there are a few reasons why Meta's LLamA may be considered better than GPT-3.5:\n",
      "\n",
      "1. LLamA is designed specifically for social media interactions: Unlike GPT-3.5, which is a general-purpose language model, LLamA is designed to understand and respond to social media interactions. This means that LLamA is better equipped to handle the nuances of social media conversations, such as slang, emojis, and informal language.\n",
      "\n",
      "2. LLamA is trained on a larger dataset: LLamA is trained on a dataset of over 45 billion words, which is larger than the dataset used to train GPT-3.5. This means that LLamA has access to more data and is better able to understand the nuances of language.\n",
      "\n",
      "3. LLamA is more accurate: In a recent study, LLamA was found to be more accurate than GPT-3.5 in generating responses to social media interactions. LLamA was able to generate responses that were more relevant and engaging to users.\n",
      "\n",
      "Overall, while both LLamA and GPT-3.5 are powerful language models, LLamA's focus on social media interactions and larger dataset may make it a better choice for social media applications.\n",
      "----------------------------------------------------------------------------------------------------\n",
      "Gaussian Mixtures are a type of statistical model used in machine learning and data analysis. They are used to represent complex probability distributions that cannot be easily modeled using a single Gaussian distribution. \n",
      "\n",
      "A Gaussian Mixture Model (GMM) is a probabilistic model that represents a mixture of several Gaussian distributions. Each Gaussian distribution in the mixture represents a cluster of data points in the dataset. The GMM assumes that the data points are generated from a mixture of several Gaussian distributions, each with its own mean and variance. \n",
      "\n",
      "The GMM is trained using an iterative algorithm called the Expectation-Maximization (EM) algorithm. The EM algorithm estimates the parameters of the Gaussian distributions in the mixture by maximizing the likelihood of the observed data. Once the GMM is trained, it can be used to classify new data points by assigning them to the cluster with the highest probability. \n",
      "\n",
      "Gaussian Mixtures are commonly used in applications such as image segmentation, speech recognition, and anomaly detection.\n",
      "----------------------------------------------------------------------------------------------------\n"
     ]
    }
   ],
   "source": [
    "print(len(oa_result_list))\n",
    "for i in range(len(oa_result_list)):\n",
    "    print(oa_result_list[i])\n",
    "    print(100*'-')"
   ]
  },
  {
   "cell_type": "code",
   "execution_count": 201,
   "id": "095c7edf",
   "metadata": {},
   "outputs": [
    {
     "name": "stdout",
     "output_type": "stream",
     "text": [
      "tensor(7.3233, grad_fn=<ExpBackward0>)\n",
      "tensor(6.6791, grad_fn=<ExpBackward0>)\n",
      "tensor(7.0902, grad_fn=<ExpBackward0>)\n",
      "tensor(6.9893, grad_fn=<ExpBackward0>)\n",
      "tensor(7.5752, grad_fn=<ExpBackward0>)\n",
      "tensor(9.8368, grad_fn=<ExpBackward0>)\n",
      "tensor(6.1199, grad_fn=<ExpBackward0>)\n",
      "tensor(9.8495, grad_fn=<ExpBackward0>)\n",
      "tensor(7.1174, grad_fn=<ExpBackward0>)\n",
      "tensor(10.4769, grad_fn=<ExpBackward0>)\n"
     ]
    }
   ],
   "source": [
    "#getting the perplexity tensor for the openai generated text\n",
    "perplexity_list =[]\n",
    "for i in range(len(oa_result_list)):\n",
    "    inputs_text = tokenizer(oa_result_list[i], return_tensors = \"pt\")\n",
    "    loss = model(input_ids = inputs_text[\"input_ids\"], labels = inputs_text[\"input_ids\"]).loss\n",
    "    ppl = torch.exp(loss)\n",
    "    print(ppl)\n",
    "    perplexity_list.append(ppl)"
   ]
  },
  {
   "cell_type": "code",
   "execution_count": 203,
   "id": "73406aca",
   "metadata": {},
   "outputs": [
    {
     "name": "stdout",
     "output_type": "stream",
     "text": [
      "[7.3233, 6.6791, 7.0902, 6.9893, 7.5752, 9.8368, 6.1199, 9.8495, 7.1174, 10.4769]\n"
     ]
    }
   ],
   "source": [
    "#converting tensors to string and getting just the values\n",
    "ai_text_perplexity= []\n",
    "for i in range(len(perplexity_list)):\n",
    "    tensor_string=str(perplexity_list[i])\n",
    "    a,b = tensor_string.split(\",\")\n",
    "    tensor, perplexity = a.split(\"(\")\n",
    "    ai_text_perplexity.append(float(perplexity))\n",
    "print(ai_text_perplexity)"
   ]
  },
  {
   "cell_type": "markdown",
   "id": "aee42485",
   "metadata": {},
   "source": [
    "## 3. Getting the perplexity for 10 human written texts"
   ]
  },
  {
   "cell_type": "code",
   "execution_count": 204,
   "id": "fff8aa45",
   "metadata": {},
   "outputs": [
    {
     "data": {
      "text/plain": [
       "['Ukraine’s counter-offensive is just a few days old. But its shape is gradually becoming clearer. One axis points east, at the area around the bloodily contested town of Bakhmut and in Luhansk province. Another aims south and south-east from Vuhledar in Donetsk province. The third is perhaps the most important. On June 8th it became apparent that Ukraine had launched a major southward assault in Zaporizhia province, which forms the central part of the war’s long frontline. It looks like the biggest one yet.\\n',\n",
       " 'Although the attack began earlier, overnight on June 8th Ukrainian troops advanced in two prongs from Orikhiv, a small Ukrainian-held town, according to a source familiar with the course of fighting. One advance hugged the Konka river, a tributary of the Dnieper that snakes east of the town. The other occurred further east. Russian military bloggers on Telegram, a messaging platform, described a fierce assault with heavy artillery bombardment and the use of tanks.\\n',\n",
       " 'Russia’s defence ministry claimed to have repelled an attack in Novodarivka, which lies almost 70km east of Orikhiv. On June 8th Yevgeny Balitsky, the leader of Russia’s puppet government in the occupied part of Zaporizhia, ordered residents in Tokmak and a pair of towns on either side, Vasylivka and Polohy, to evacuate to Simferopol in Crimea. There was reportedly heavy fighting around the area.\\n',\n",
       " 'There are some early signs that the attack in Zaporizhia differs from those in the east and south. One is the scale and intensity of the Ukrainian assault. Another is the equipment that is being used. Drone images published by Russian media appear to show German Leopard tanks, including the most advanced 2a6 variants; American Bradley armoured fighting vehicles; and m113 armoured personnel carriers in Mala Tokmachka, a village to the east of Orikhiv. That would suggest that Ukraine has committed several of its nine Western-armed and -trained brigades—including some of the best-equipped ones, according to leaked Pentagon documents from February—in the area.\\n',\n",
       " 'Military experts and officials had long thought that Zaporizhia was a logical place for Ukraine to focus its offensive. Its position at the heart of the frontline means that any attack there could trap large numbers of Russian troops in a pocket to the west, in Kherson province. Many could also be trapped in Crimea itself, if Ukraine managed to strike the bridge over the Kerch strait again. If Ukraine could get to the key city of Melitopol, it could strike at Russian road and rail supply lines running westwards to Crimea, in essence severing the so-called land bridge that connects Russian territory to the occupied peninsula. Just getting to within artillery range of the links would also cause big problems for Russia\\n',\n",
       " 'Four children have been found alive after surviving a plane crash and spending weeks fending for themselves in Colombia\\'s Amazon jungle. Colombia\\'s president said the rescue of the siblings, aged 13, nine, four and one, was \"a joy for the whole country\".The children\\'s mother and two pilots were killed when their light aircraft crashed in the jungle on 1 May. The missing children became the focus of a huge rescue operation involving dozens of soldiers and local people.President Gustavo Petro said finding the group was a \"magical day\", adding: \"They were alone, they themselves achieved an example of total survival which will remain in history.\"\\n',\n",
       " 'The children belong to the Huitoto indigenous group. Mr Petro shared a photograph of several members of the military and Indigenous community caring for the siblings, who had been missing for 40 days.One of the rescuers held a bottle up to the mouth of the smallest child, while another fed one of the other children from a mug with a spoon.\\n',\n",
       " \"A video shared by Colombia's ministry of defence showed the children being lifted into a helicopter in the dark above the tall trees of the jungle. They have been flown to the nation's capital Bogota, where ambulances have taken them to hospital for further medical treatment.\\n\",\n",
       " 'The children\\'s grandmother, Fatima Valencia, said after their rescue: \"I am very grateful, and to mother earth as well, that they were set free.\" She said the eldest of the four siblings was used to looking after the other three when their mother was at work, and that this helped them survive in the jungle. \"She gave them flour and cassava bread, any fruit in the bush, they know what they must consume,\" Ms Valencia said in footage obtained by EVN.\\n',\n",
       " 'The Cessna 206 aircraft the children and their mother had been travelling on before the crash was flying from Araracuara, in Amazonas province, to San José del Guaviare, when it issued a mayday alert due to engine failure. The bodies of the three adults were found at the crash site by the army, but it appeared that the children had escaped the wreckage and wandered into the rainforest to find help.']"
      ]
     },
     "execution_count": 204,
     "metadata": {},
     "output_type": "execute_result"
    }
   ],
   "source": [
    "query_list = []\n",
    "with open ('humanwritten_en.txt', mode='r') as prompts: #change to 'humanwritten_nl.txt' if you prefer Dutch\n",
    "    for prompt in prompts: #for each row do the following\n",
    "        #query = prompt.split()\n",
    "        query_list.append(prompt)\n",
    "query_list"
   ]
  },
  {
   "cell_type": "code",
   "execution_count": 205,
   "id": "a3600798",
   "metadata": {},
   "outputs": [
    {
     "name": "stdout",
     "output_type": "stream",
     "text": [
      "tensor(35.6140, grad_fn=<ExpBackward0>)\n",
      "tensor(39.4342, grad_fn=<ExpBackward0>)\n",
      "tensor(41.6404, grad_fn=<ExpBackward0>)\n",
      "tensor(42.4313, grad_fn=<ExpBackward0>)\n",
      "tensor(34.4709, grad_fn=<ExpBackward0>)\n",
      "tensor(33.6071, grad_fn=<ExpBackward0>)\n",
      "tensor(44.7488, grad_fn=<ExpBackward0>)\n",
      "tensor(23.9217, grad_fn=<ExpBackward0>)\n",
      "tensor(32.5044, grad_fn=<ExpBackward0>)\n",
      "tensor(38.8445, grad_fn=<ExpBackward0>)\n"
     ]
    }
   ],
   "source": [
    "pp_list_human=[]\n",
    "for i in range(len(query_list)):\n",
    "    inputs_text = tokenizer(query_list[i], return_tensors = \"pt\")\n",
    "    loss = model(input_ids = inputs_text[\"input_ids\"], labels = inputs_text[\"input_ids\"]).loss\n",
    "    ppl = torch.exp(loss)\n",
    "    print(ppl)\n",
    "    pp_list_human.append(ppl)"
   ]
  },
  {
   "cell_type": "code",
   "execution_count": 206,
   "id": "1ae2cd88",
   "metadata": {},
   "outputs": [
    {
     "name": "stdout",
     "output_type": "stream",
     "text": [
      "35.614\n",
      "39.4342\n",
      "41.6404\n",
      "42.4313\n",
      "34.4709\n",
      "33.6071\n",
      "44.7488\n",
      "23.9217\n",
      "32.5044\n",
      "38.8445\n"
     ]
    }
   ],
   "source": [
    "human_text_perplexity= []\n",
    "for i in range(len(pp_list_human)):\n",
    "    tensor_string=str(pp_list_human[i])\n",
    "    a,b = tensor_string.split(\",\")\n",
    "    tensor, perplexity = a.split(\"(\")\n",
    "    print(float(perplexity))\n",
    "    human_text_perplexity.append(float(perplexity))"
   ]
  },
  {
   "cell_type": "markdown",
   "id": "fa398864",
   "metadata": {},
   "source": [
    "## 4. Comparing results and conclusion"
   ]
  },
  {
   "cell_type": "code",
   "execution_count": 207,
   "id": "4faa53a6",
   "metadata": {},
   "outputs": [
    {
     "name": "stdout",
     "output_type": "stream",
     "text": [
      "[7.3233, 6.6791, 7.0902, 6.9893, 7.5752, 9.8368, 6.1199, 9.8495, 7.1174, 10.4769, 35.614, 39.4342, 41.6404, 42.4313, 34.4709, 33.6071, 44.7488, 23.9217, 32.5044, 38.8445]\n",
      "20\n"
     ]
    }
   ],
   "source": [
    "#create one list\n",
    "results =ai_text_perplexity+human_text_perplexity\n",
    "print(results)\n",
    "print(len(results))"
   ]
  },
  {
   "cell_type": "code",
   "execution_count": 208,
   "id": "a382bec0",
   "metadata": {},
   "outputs": [
    {
     "data": {
      "image/png": "[encoded data removed]",
      "text/plain": [
       "<Figure size 640x480 with 1 Axes>"
      ]
     },
     "metadata": {},
     "output_type": "display_data"
    }
   ],
   "source": [
    "#create the plot\n",
    "import matplotlib.pyplot as plt\n",
    "x = [\"AI1\", \"AI2\", \"AI3\", \"AI4\", \"AI5\", \"AI6\",\"AI7\",\"AI8\",\"AI9\",\"AI10\", \"H1\",\"H2\",\"H3\",\"H4\",\"H5\",\"H6\",\"H7\",\"H8\",\"H9\",\"H10\",]\n",
    "y = results\n",
    "colors = ['red' if value > 20 else 'green' for value in y]\n",
    "\n",
    "# Create scatter plot\n",
    "plt.scatter(x, y, c=colors)\n",
    "\n",
    "# Customize plot\n",
    "plt.title('Human written text in red, AI generated text in green')\n",
    "plt.xlabel('X-axis - sample name.')\n",
    "plt.ylabel('Y-axis - perplexity score')\n",
    "\n",
    "# Display the plot\n",
    "plt.show()"
   ]
  },
  {
   "cell_type": "markdown",
   "id": "f70f6dc0",
   "metadata": {},
   "source": [
    "In this notebook we've compared 10 AI generated texts with 10 texts written by humans and calculated their perplexity. When we plotted the results we see a difference between AI-generated texts (low perplexity) and human written text (high perplexity). \n",
    "\n",
    "Without doubt, more testing is needed, especially with other types of text, to get more reliable results."
   ]
  },
  {
   "cell_type": "code",
   "execution_count": null,
   "id": "ce992b75",
   "metadata": {},
   "outputs": [],
   "source": []
  }
 ],
 "metadata": {
  "kernelspec": {
   "display_name": "Python 3 (ipykernel)",
   "language": "python",
   "name": "python3"
  },
  "language_info": {
   "codemirror_mode": {
    "name": "ipython",
    "version": 3
   },
   "file_extension": ".py",
   "mimetype": "text/x-python",
   "name": "python",
   "nbconvert_exporter": "python",
   "pygments_lexer": "ipython3",
   "version": "3.10.9"
  }
 },
 "nbformat": 4,
 "nbformat_minor": 5
}
