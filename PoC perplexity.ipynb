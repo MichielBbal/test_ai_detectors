{
 "cells": [
  {
   "cell_type": "markdown",
   "id": "275024d2",
   "metadata": {},
   "source": [
    "# Can we use perplexity as a metric to detect AI generated text?\n",
    "\n",
    "### Why this notebook?\n",
    "With the rise of Generative AI in education, there is a growing need for teachers to check whether a text is written by a human or an AI. A possible metric to detect AI generated text is perplexity. In this notebook we will compare 5 AI generated texts with 5 human generated texts, calculate their perplexity and compare results.\n",
    "\n",
    "### TL;DR\n",
    "Yes, this works. (For the small set of given texts that is).\n",
    "\n",
    "### Contents\n",
    "0. Install packages\n",
    "1. Settings\n",
    "2. Getting perplexity for 5 openAI generated texts\n",
    "3. Getting the perplexity for 5 human written texts\n",
    "4. Comparing results and conclusion"
   ]
  },
  {
   "cell_type": "markdown",
   "id": "1c53dc23",
   "metadata": {},
   "source": [
    "## Calculating perplexity\n",
    "\n",
    "### Sources\n",
    "- blog: https://medium.com/@priyankads/perplexity-of-language-models-41160427ed72\n",
    "- wiki: https://en.wikipedia.org/wiki/Perplexity\n",
    "- o'reilly: https://www.oreilly.com/library/view/natural-language-processing/9781787285101/ch21s05.html (to do)"
   ]
  },
  {
   "cell_type": "markdown",
   "id": "22b19a75",
   "metadata": {},
   "source": [
    "## 0. Install packages"
   ]
  },
  {
   "cell_type": "code",
   "execution_count": 1,
   "id": "5f80563e",
   "metadata": {},
   "outputs": [
    {
     "name": "stdout",
     "output_type": "stream",
     "text": [
      "Requirement already satisfied: openai in /Users/michielbontenbal/anaconda3/lib/python3.10/site-packages (0.27.7)\n",
      "Requirement already satisfied: requests>=2.20 in /Users/michielbontenbal/anaconda3/lib/python3.10/site-packages (from openai) (2.31.0)\n",
      "Requirement already satisfied: aiohttp in /Users/michielbontenbal/anaconda3/lib/python3.10/site-packages (from openai) (3.8.4)\n",
      "Requirement already satisfied: tqdm in /Users/michielbontenbal/anaconda3/lib/python3.10/site-packages (from openai) (4.61.2)\n",
      "Requirement already satisfied: charset-normalizer<4,>=2 in /Users/michielbontenbal/anaconda3/lib/python3.10/site-packages (from requests>=2.20->openai) (2.0.4)\n",
      "Requirement already satisfied: certifi>=2017.4.17 in /Users/michielbontenbal/anaconda3/lib/python3.10/site-packages (from requests>=2.20->openai) (2022.12.7)\n",
      "Requirement already satisfied: urllib3<3,>=1.21.1 in /Users/michielbontenbal/anaconda3/lib/python3.10/site-packages (from requests>=2.20->openai) (1.26.14)\n",
      "Requirement already satisfied: idna<4,>=2.5 in /Users/michielbontenbal/anaconda3/lib/python3.10/site-packages (from requests>=2.20->openai) (2.10)\n",
      "Requirement already satisfied: multidict<7.0,>=4.5 in /Users/michielbontenbal/anaconda3/lib/python3.10/site-packages (from aiohttp->openai) (6.0.4)\n",
      "Requirement already satisfied: aiosignal>=1.1.2 in /Users/michielbontenbal/anaconda3/lib/python3.10/site-packages (from aiohttp->openai) (1.3.1)\n",
      "Requirement already satisfied: async-timeout<5.0,>=4.0.0a3 in /Users/michielbontenbal/anaconda3/lib/python3.10/site-packages (from aiohttp->openai) (4.0.2)\n",
      "Requirement already satisfied: attrs>=17.3.0 in /Users/michielbontenbal/anaconda3/lib/python3.10/site-packages (from aiohttp->openai) (22.1.0)\n",
      "Requirement already satisfied: frozenlist>=1.1.1 in /Users/michielbontenbal/anaconda3/lib/python3.10/site-packages (from aiohttp->openai) (1.3.3)\n",
      "Requirement already satisfied: yarl<2.0,>=1.0 in /Users/michielbontenbal/anaconda3/lib/python3.10/site-packages (from aiohttp->openai) (1.8.2)\n",
      "Note: you may need to restart the kernel to use updated packages.\n"
     ]
    }
   ],
   "source": [
    "pip install openai"
   ]
  },
  {
   "cell_type": "markdown",
   "id": "de3eee16",
   "metadata": {},
   "source": [
    "## 1. Settings"
   ]
  },
  {
   "cell_type": "code",
   "execution_count": 116,
   "id": "60d37515",
   "metadata": {},
   "outputs": [],
   "source": [
    "#set API keys\n",
    "import os\n",
    "import config\n",
    "os.environ['OPENAI_API_KEY'] = config.openai_key # replace with your API-key, but don't keep it in your source code :-)"
   ]
  },
  {
   "cell_type": "code",
   "execution_count": 117,
   "id": "2b902029",
   "metadata": {},
   "outputs": [],
   "source": [
    "#OpenAI settings\n",
    "import openai  # for calling the OpenAI API\n",
    "\n",
    "# models\n",
    "EMBEDDING_MODEL = \"text-embedding-ada-002\" #choose your embeddings model\n",
    "GPT_MODEL = \"gpt-3.5-turbo\" #choose the generative model"
   ]
  },
  {
   "cell_type": "markdown",
   "id": "50066ef5",
   "metadata": {},
   "source": [
    "## 1. First perplexity result"
   ]
  },
  {
   "cell_type": "code",
   "execution_count": 6,
   "id": "0532c135",
   "metadata": {},
   "outputs": [],
   "source": [
    "import transformers\n",
    "import torch\n",
    "from transformers import AutoModelForCausalLM, AutoTokenizer\n",
    "model = AutoModelForCausalLM.from_pretrained(\"gpt2\")\n",
    "tokenizer = AutoTokenizer.from_pretrained(\"gpt2\")"
   ]
  },
  {
   "cell_type": "code",
   "execution_count": 8,
   "id": "90e5f7a6",
   "metadata": {},
   "outputs": [
    {
     "name": "stdout",
     "output_type": "stream",
     "text": [
      "tensor(29.4841, grad_fn=<ExpBackward0>)\n"
     ]
    }
   ],
   "source": [
    "inputs = tokenizer(\"ABC is a startup based in New York City and Paris\", return_tensors = \"pt\")\n",
    "loss = model(input_ids = inputs[\"input_ids\"], labels = inputs[\"input_ids\"]).loss\n",
    "ppl = torch.exp(loss)\n",
    "print(ppl)"
   ]
  },
  {
   "cell_type": "code",
   "execution_count": 9,
   "id": "6f901374",
   "metadata": {},
   "outputs": [
    {
     "name": "stdout",
     "output_type": "stream",
     "text": [
      "tensor(211.8132, grad_fn=<ExpBackward0>)\n"
     ]
    }
   ],
   "source": [
    "inputs_wiki_text = tokenizer(\"Generative Pretrained Transformer is an opensource artificial intelligence created by OpenAI in February 2019\", return_tensors = \"pt\")\n",
    "loss = model(input_ids = inputs_wiki_text[\"input_ids\"], labels = inputs_wiki_text[\"input_ids\"]).loss\n",
    "ppl = torch.exp(loss)\n",
    "print(ppl)"
   ]
  },
  {
   "cell_type": "markdown",
   "id": "e8c1caf9",
   "metadata": {},
   "source": [
    "## 2. Getting perplexity for 5 openAI generated texts"
   ]
  },
  {
   "cell_type": "code",
   "execution_count": 118,
   "id": "b21d9ba0",
   "metadata": {},
   "outputs": [],
   "source": [
    "query_list = []\n",
    "with open ('prompts_en.txt', mode='r') as prompts:\n",
    "    for prompt in prompts: #for each row do the following\n",
    "        #query = prompt.split()\n",
    "        query_list.append(prompt)\n",
    "query_list"
   ]
  },
  {
   "cell_type": "code",
   "execution_count": 120,
   "id": "49b99211",
   "metadata": {},
   "outputs": [],
   "source": [
    "oa_result_list =[] \n",
    "for i in range(len(query_list)):\n",
    "    query = query_list[i]\n",
    "\n",
    "    response = openai.ChatCompletion.create(\n",
    "        messages=[\n",
    "            {'role': 'system', 'content': ''},\n",
    "            {'role': 'user', 'content': query},\n",
    "        ],\n",
    "        model=GPT_MODEL,\n",
    "        temperature=0, #temperature is a parameter about the entropy of the model (the higher, the greater variation in results)\n",
    "    )\n",
    "\n",
    "    #print(response['choices'][0]['message']['content'])\n",
    "    openai_result = response['choices'][0]['message']['content']\n",
    "    oa_result_list.append(openai_result)"
   ]
  },
  {
   "cell_type": "code",
   "execution_count": 121,
   "id": "3fbe5f9e",
   "metadata": {},
   "outputs": [
    {
     "name": "stdout",
     "output_type": "stream",
     "text": [
      "5\n",
      "['A perceptron is a type of artificial neural network that is used for supervised learning. It consists of a single layer of artificial neurons that are connected to each other. Each neuron receives input from the previous layer and produces an output that is passed on to the next layer.\\n\\nA multi-layered perceptron (MLP) is a type of neural network that consists of multiple layers of artificial neurons. The first layer receives input from the outside world, and each subsequent layer receives input from the previous layer. The output of the last layer is the final output of the network.\\n\\nMLPs are used for a variety of tasks, including classification, regression, and pattern recognition. They are particularly useful for tasks that involve complex input data, such as images or speech. MLPs can be trained using a variety of algorithms, including backpropagation, which adjusts the weights of the connections between neurons to minimize the error between the predicted output and the actual output.', 'Machine learning and deep learning are both subsets of artificial intelligence, but they differ in their approach and complexity.\\n\\nMachine learning is a method of teaching computers to learn from data without being explicitly programmed. It involves the use of algorithms that can learn from and make predictions on data. Machine learning algorithms can be supervised, unsupervised, or semi-supervised.\\n\\nDeep learning, on the other hand, is a subset of machine learning that involves the use of artificial neural networks to learn from data. These neural networks are modeled after the human brain and are capable of learning and making decisions on their own. Deep learning algorithms are capable of processing large amounts of data and can be used for tasks such as image and speech recognition.\\n\\nIn summary, machine learning is a broader term that encompasses various techniques for teaching computers to learn from data, while deep learning is a specific subset of machine learning that involves the use of neural networks to learn from data.', 'The backpropagation algorithm is a supervised learning algorithm used for training artificial neural networks. It is a method for calculating the gradient of the error function with respect to the weights of the network, which is used to update the weights in order to minimize the error.\\n\\nThe algorithm works by propagating the error backwards through the network, starting at the output layer and working backwards towards the input layer. At each layer, the error is multiplied by the derivative of the activation function, which gives the sensitivity of the output to changes in the input. This sensitivity is then used to update the weights of the layer, using a learning rate that determines the size of the update.\\n\\nThe backpropagation algorithm is typically used in conjunction with a gradient descent optimization algorithm, which iteratively adjusts the weights of the network in the direction of the negative gradient of the error function. This process continues until the error function reaches a minimum, at which point the network is considered to be trained.\\n\\nOverall, the backpropagation algorithm is a powerful tool for training neural networks, and has been used successfully in a wide range of applications, including image recognition, natural language processing, and speech recognition.', \"Geoff Hinton is a renowned computer scientist and cognitive psychologist who is widely regarded as one of the pioneers of deep learning and artificial intelligence. He is a professor at the University of Toronto and a researcher at Google Brain.\\n\\nHinton's work in developing neural networks began in the 1980s, when he and his colleagues developed the backpropagation algorithm, which is used to train neural networks. This algorithm allowed neural networks to learn from large amounts of data and make predictions based on that data.\\n\\nHinton's research has focused on developing deep neural networks, which are capable of learning complex patterns and relationships in data. He has also worked on developing algorithms for unsupervised learning, which allows neural networks to learn from data without being explicitly told what to look for.\\n\\nHinton's contributions to the field of neural networks have been instrumental in advancing the field of artificial intelligence. His work has led to breakthroughs in speech recognition, image recognition, and natural language processing, among other areas. He has received numerous awards and honors for his contributions to the field, including the Turing Award in 2018.\", 'There are several ways to detect whether a text is written by a human or a generative AI:\\n\\n1. Style and tone: Human writing tends to have a consistent style and tone, while AI-generated text may have inconsistencies or lack a distinct voice.\\n\\n2. Grammar and syntax: AI-generated text may have errors in grammar and syntax that are not typical of human writing.\\n\\n3. Context and coherence: Human writing tends to be more coherent and contextually relevant, while AI-generated text may lack coherence or relevance to the topic.\\n\\n4. Repetition and randomness: AI-generated text may have repetitive patterns or random phrases that are not typical of human writing.\\n\\n5. Metadata: Some AI-generated text may have metadata that indicates it was generated by a machine, such as a timestamp or author name.\\n\\nOverall, detecting whether a text is written by a human or a generative AI requires a combination of linguistic analysis and contextual understanding.']\n"
     ]
    }
   ],
   "source": [
    "print(len(oa_result_list))\n",
    "print(oa_result_list)"
   ]
  },
  {
   "cell_type": "code",
   "execution_count": 122,
   "id": "095c7edf",
   "metadata": {},
   "outputs": [
    {
     "name": "stdout",
     "output_type": "stream",
     "text": [
      "tensor(7.3233, grad_fn=<ExpBackward0>)\n",
      "tensor(6.3016, grad_fn=<ExpBackward0>)\n",
      "tensor(9.1592, grad_fn=<ExpBackward0>)\n",
      "tensor(6.9893, grad_fn=<ExpBackward0>)\n",
      "tensor(7.5752, grad_fn=<ExpBackward0>)\n"
     ]
    }
   ],
   "source": [
    "#getting the perplexity tensor for the openai generated text\n",
    "perplexity_list =[]\n",
    "for i in range(len(oa_result_list)):\n",
    "    inputs_wiki_text = tokenizer(oa_result_list[i], return_tensors = \"pt\")\n",
    "    loss = model(input_ids = inputs_wiki_text[\"input_ids\"], labels = inputs_wiki_text[\"input_ids\"]).loss\n",
    "    ppl = torch.exp(loss)\n",
    "    print(ppl)\n",
    "    perplexity_list.append(ppl)"
   ]
  },
  {
   "cell_type": "code",
   "execution_count": 124,
   "id": "7732ba5c",
   "metadata": {},
   "outputs": [
    {
     "data": {
      "text/plain": [
       "[7.3233, 6.3016, 9.1592, 6.9893, 7.5752]"
      ]
     },
     "execution_count": 124,
     "metadata": {},
     "output_type": "execute_result"
    }
   ],
   "source": [
    "#converting tensors to string and getting just the values\n",
    "ai_text_perplexity= []\n",
    "for i in range(len(perplexity_list)):\n",
    "    tensor_string=str(perplexity_list[i])\n",
    "    a,b = tensor_string.split(\",\")\n",
    "    tensor, perplexity = a.split(\"(\")\n",
    "    ai_text_perplexity.append(float(perplexity))\n",
    "ai_text_perplexity"
   ]
  },
  {
   "cell_type": "markdown",
   "id": "2c1f98eb",
   "metadata": {},
   "source": [
    "## 3. Getting the perplexity for 5 human written texts"
   ]
  },
  {
   "cell_type": "code",
   "execution_count": 48,
   "id": "a69310b0",
   "metadata": {},
   "outputs": [],
   "source": [
    "humantext1=\"The task for Ukraine, bluntly, is to show Vladimir Putin, his henchmen, his compatriots and the wider watching world that Russia cannot win; that this invasion has been misconceived from the outset; that Russia cannot outlast Ukraine and its Western backers; and that the Kremlin’s best option is to give up before Russia suffers yet more losses and humiliation. That is no easy task, and the risk of failure is real. But thanks to Ukraine’s astonishing determination, and the strong and unexpectedly united backing of the West, success is possible. It requires, right now, the strongest diplomatic and military support, and the clearest commitment from the West that it will stand by Ukraine for many years to come. Mr Putin must no longer be able to lie to himself or his people about the foolishness of the direction he has chosen. This is why this moment is so critical. The Russians are well dug in and reinforced after months of a mobilisation drive that has replenished the supply of cannon-fodder. Imagine the worst case: that Ukraine’s counter-offensive peters out, its troops spread too thin, or used too sparingly, to make an impact.If that happens, it would be a damaging failure. Despite the Russian army’s woeful performance in the months-long fight to take the city of Bakhmut, it would nonetheless start to seem well matched against Ukraine’s. The voices urging Ukraine to stop fighting and start talking would grow louder, even though a ceasefire would leave Russia in possession of almost 20% of Ukraine and Russian promises of peace would be worthless.This would be a win for Mr Putin—not the total victory he once dreamed of, but success in his backup objective, to cripple Ukraine if it cannot be returned to the Russian imperium. There would be recriminations within nato and the European Union. In America, as it heads towards a divisive presidential election, the pressure to cut back funds that Republican critics already claim are being wasted would grow. In Europe the backsliders would slide further.\""
   ]
  },
  {
   "cell_type": "code",
   "execution_count": 60,
   "id": "04e0025a",
   "metadata": {},
   "outputs": [
    {
     "name": "stdout",
     "output_type": "stream",
     "text": [
      "tensor(33.4864, grad_fn=<ExpBackward0>)\n"
     ]
    }
   ],
   "source": [
    "pp_list_human=[]\n",
    "inputs_wiki_text = tokenizer(humantext1, return_tensors = \"pt\")\n",
    "loss = model(input_ids = inputs_wiki_text[\"input_ids\"], labels = inputs_wiki_text[\"input_ids\"]).loss\n",
    "ppl = torch.exp(loss)\n",
    "print(ppl)\n",
    "pp_list_human.append(ppl)"
   ]
  },
  {
   "cell_type": "code",
   "execution_count": 50,
   "id": "56b13016",
   "metadata": {},
   "outputs": [],
   "source": [
    "humantext2 ='Ukraine’s counter-offensive is just a few days old. But its shape is gradually becoming clearer. One axis points east, at the area around the bloodily contested town of Bakhmut and in Luhansk province. Another aims south and south-east from Vuhledar in Donetsk province. The third is perhaps the most important. On June 8th it became apparent that Ukraine had launched a major southward assault in Zaporizhia province, which forms the central part of the war’s long frontline. It looks like the biggest one yet.Although the attack began earlier, overnight on June 8th Ukrainian troops advanced in two prongs from Orikhiv, a small Ukrainian-held town, according to a source familiar with the course of fighting. One advance hugged the Konka river, a tributary of the Dnieper that snakes east of the town. The other occurred further east. Russian military bloggers on Telegram, a messaging platform, described a fierce assault with heavy artillery bombardment and the use of tanks.Russia’s defence ministry claimed to have repelled an attack in Novodarivka, which lies almost 70km east of Orikhiv. On June 8th Yevgeny Balitsky, the leader of Russia’s puppet government in the occupied part of Zaporizhia, ordered residents in Tokmak and a pair of towns on either side, Vasylivkahere was reportedly heavy fighting around the area.'"
   ]
  },
  {
   "cell_type": "code",
   "execution_count": 61,
   "id": "2ae22338",
   "metadata": {},
   "outputs": [
    {
     "name": "stdout",
     "output_type": "stream",
     "text": [
      "tensor(33.2663, grad_fn=<ExpBackward0>)\n"
     ]
    }
   ],
   "source": [
    "inputs_wiki_text = tokenizer(humantext2, return_tensors = \"pt\")\n",
    "loss = model(input_ids = inputs_wiki_text[\"input_ids\"], labels = inputs_wiki_text[\"input_ids\"]).loss\n",
    "ppl = torch.exp(loss)\n",
    "print(ppl)\n",
    "pp_list_human.append(ppl)"
   ]
  },
  {
   "cell_type": "code",
   "execution_count": 52,
   "id": "d839b473",
   "metadata": {},
   "outputs": [],
   "source": [
    "humantext3 ='There are some early signs that the attack in Zaporizhia differs from those in the east and south. One is the scale and intensity of the Ukrainian assault. Another is the equipment that is being used. Drone images published by Russian media appear to show German Leopard tanks, including the most advanced 2a6 variants; American Bradley armoured fighting vehicles; and m113 armoured personnel carriers in Mala Tokmachka, a village to the east of Orikhiv. That would suggest that Ukraine has committed several of its nine Western-armed and -trained brigades—including some of the best-equipped ones, according to leaked Pentagon documents from February—in the area.'"
   ]
  },
  {
   "cell_type": "code",
   "execution_count": 62,
   "id": "049d93e0",
   "metadata": {},
   "outputs": [
    {
     "name": "stdout",
     "output_type": "stream",
     "text": [
      "tensor(43.2825, grad_fn=<ExpBackward0>)\n"
     ]
    }
   ],
   "source": [
    "inputs_wiki_text = tokenizer(humantext3, return_tensors = \"pt\")\n",
    "loss = model(input_ids = inputs_wiki_text[\"input_ids\"], labels = inputs_wiki_text[\"input_ids\"]).loss\n",
    "ppl = torch.exp(loss)\n",
    "print(ppl)\n",
    "pp_list_human.append(ppl)"
   ]
  },
  {
   "cell_type": "code",
   "execution_count": 55,
   "id": "f7eb92df",
   "metadata": {},
   "outputs": [],
   "source": [
    "humantext4 ='Military experts and officials had long thought that Zaporizhia was a logical place for Ukraine to focus its offensive. Its position at the heart of the frontline means that any attack there could trap large numbers of Russian troops in a pocket to the west, in Kherson province. Many could also be trapped in Crimea itself, if Ukraine managed to strike the bridge over the Kerch strait again. If Ukraine could get to the key city of Melitopol, it could strike at Russian road and rail supply lines running westwards to Crimea, in essence severing the so-called land bridge that connects Russian territory to the occupied peninsula. Just getting to within artillery range of the links would also cause big problems for Russia.'"
   ]
  },
  {
   "cell_type": "code",
   "execution_count": 63,
   "id": "096c4d34",
   "metadata": {},
   "outputs": [
    {
     "name": "stdout",
     "output_type": "stream",
     "text": [
      "tensor(32.7452, grad_fn=<ExpBackward0>)\n"
     ]
    }
   ],
   "source": [
    "inputs_wiki_text = tokenizer(humantext4, return_tensors = \"pt\")\n",
    "loss = model(input_ids = inputs_wiki_text[\"input_ids\"], labels = inputs_wiki_text[\"input_ids\"]).loss\n",
    "ppl = torch.exp(loss)\n",
    "print(ppl)\n",
    "pp_list_human.append(ppl)"
   ]
  },
  {
   "cell_type": "code",
   "execution_count": 58,
   "id": "d7f8bf04",
   "metadata": {},
   "outputs": [],
   "source": [
    "humantext5='For the same reason, Russia has assiduously built multiple lines of defence in Zaporizhia north of Tokmak, stretching back 30km, drone and satellite imagery shows. These include trenches, shelters, anti-tank ditches and obstacles, and minefields. Tokmak itself is entirely surrounded by circular ditches that can house anti-tank teams and multiple strongpoints, notes Pasi Paroinen, a Finnish reserve army officer who analyses such imagery.'"
   ]
  },
  {
   "cell_type": "code",
   "execution_count": 64,
   "id": "767e1745",
   "metadata": {},
   "outputs": [
    {
     "name": "stdout",
     "output_type": "stream",
     "text": [
      "tensor(61.3427, grad_fn=<ExpBackward0>)\n"
     ]
    }
   ],
   "source": [
    "inputs_wiki_text = tokenizer(humantext5, return_tensors = \"pt\")\n",
    "loss = model(input_ids = inputs_wiki_text[\"input_ids\"], labels = inputs_wiki_text[\"input_ids\"]).loss\n",
    "ppl = torch.exp(loss)\n",
    "print(ppl)\n",
    "pp_list_human.append(ppl)"
   ]
  },
  {
   "cell_type": "code",
   "execution_count": 89,
   "id": "b0efe7c3",
   "metadata": {},
   "outputs": [
    {
     "data": {
      "text/plain": [
       "[tensor(33.4864, grad_fn=<ExpBackward0>),\n",
       " tensor(33.2663, grad_fn=<ExpBackward0>),\n",
       " tensor(43.2825, grad_fn=<ExpBackward0>),\n",
       " tensor(32.7452, grad_fn=<ExpBackward0>),\n",
       " tensor(61.3427, grad_fn=<ExpBackward0>)]"
      ]
     },
     "execution_count": 89,
     "metadata": {},
     "output_type": "execute_result"
    }
   ],
   "source": [
    "pp_list_human"
   ]
  },
  {
   "cell_type": "code",
   "execution_count": 104,
   "id": "d2c41645",
   "metadata": {},
   "outputs": [
    {
     "name": "stdout",
     "output_type": "stream",
     "text": [
      "33.4864\n",
      "33.2663\n",
      "43.2825\n",
      "32.7452\n",
      "61.3427\n"
     ]
    }
   ],
   "source": [
    "human_text_perplexity= []\n",
    "for i in range(len(pp_list_human)):\n",
    "    tensor_string=str(pp_list_human[i])\n",
    "    a,b = tensor_string.split(\",\")\n",
    "    tensor, perplexity = a.split(\"(\")\n",
    "    print(float(perplexity))\n",
    "    human_text_perplexity.append(float(perplexity))"
   ]
  },
  {
   "cell_type": "code",
   "execution_count": 105,
   "id": "e3997382",
   "metadata": {},
   "outputs": [
    {
     "data": {
      "text/plain": [
       "[33.4864, 33.2663, 43.2825, 32.7452, 61.3427]"
      ]
     },
     "execution_count": 105,
     "metadata": {},
     "output_type": "execute_result"
    }
   ],
   "source": [
    "human_text_perplexity"
   ]
  },
  {
   "cell_type": "markdown",
   "id": "9237ebb7",
   "metadata": {},
   "source": [
    "## 4. Comparing results and conclusion"
   ]
  },
  {
   "cell_type": "code",
   "execution_count": 125,
   "id": "4a571980",
   "metadata": {},
   "outputs": [
    {
     "name": "stdout",
     "output_type": "stream",
     "text": [
      "[7.3233, 6.3016, 9.1592, 6.9893, 7.5752, 33.4864, 33.2663, 43.2825, 32.7452, 61.3427]\n"
     ]
    }
   ],
   "source": [
    "#create one list\n",
    "results =ai_text_perplexity+human_text_perplexity\n",
    "print(results)"
   ]
  },
  {
   "cell_type": "code",
   "execution_count": 113,
   "id": "418b0c30",
   "metadata": {},
   "outputs": [
    {
     "data": {
      "image/png": "[encoded data removed]",
      "text/plain": [
       "<Figure size 640x480 with 1 Axes>"
      ]
     },
     "metadata": {},
     "output_type": "display_data"
    }
   ],
   "source": [
    "#create the plot\n",
    "import matplotlib.pyplot as plt\n",
    "x = [\"AI_text1\", \"AI_text2\", \"AI_text3\", \"AI_text4\", \"AI_text5\", \"AI_text6\",\"AI_text7\",\"AI_text8\",\"AI_text9\",\"AI_text10\"]\n",
    "y = results\n",
    "colors = ['red' if value > 20 else 'green' for value in y]\n",
    "\n",
    "# Create scatter plot\n",
    "plt.scatter(x, y, c=colors)\n",
    "\n",
    "# Customize plot\n",
    "plt.title('Values over 20 in red indicate human written text')\n",
    "plt.xlabel('X-axis')\n",
    "plt.ylabel('Y-axis')\n",
    "\n",
    "# Display the plot\n",
    "plt.show()"
   ]
  },
  {
   "cell_type": "markdown",
   "id": "9b7bb06b",
   "metadata": {},
   "source": [
    "In this notebook we've compared 5 AI generated texts with 5 texts written by humans and calculated their perplexity. When we plotted the results we see a difference between AI-generated texts (low perplexity) and human written text (high perplexity). \n",
    "\n",
    "Without doubt, more testing is needed, especially with other types of text, to get more reliable results."
   ]
  },
  {
   "cell_type": "code",
   "execution_count": null,
   "id": "4fa9b8aa",
   "metadata": {},
   "outputs": [],
   "source": []
  }
 ],
 "metadata": {
  "kernelspec": {
   "display_name": "Python 3 (ipykernel)",
   "language": "python",
   "name": "python3"
  },
  "language_info": {
   "codemirror_mode": {
    "name": "ipython",
    "version": 3
   },
   "file_extension": ".py",
   "mimetype": "text/x-python",
   "name": "python",
   "nbconvert_exporter": "python",
   "pygments_lexer": "ipython3",
   "version": "3.10.9"
  }
 },
 "nbformat": 4,
 "nbformat_minor": 5
}
