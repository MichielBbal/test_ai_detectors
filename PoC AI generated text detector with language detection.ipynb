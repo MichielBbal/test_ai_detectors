{
 "cells": [
  {
   "cell_type": "markdown",
   "id": "275024d2",
   "metadata": {},
   "source": [
    "# Can we use perplexity as a metric to detect AI generated text?\n",
    "# With language detection\n",
    "\n",
    "### Why this notebook?\n",
    "With the rise of Generative AI in education, there is a growing need for teachers to check whether a text is written by a human or an AI. A possible metric to detect AI generated text is perplexity. In this notebook we will compare 5 AI generated texts with 5 human generated texts, calculate their perplexity and compare results.\n",
    "\n",
    "### TL;DR\n",
    "Yes, this works. (For the small set of given texts that is.)\n",
    "\n",
    "### Contents\n",
    "0. Install packages\n",
    "1. Settings\n",
    "2. Getting perplexity for 10 openAI generated texts\n",
    "3. Getting the perplexity for 10 human written texts\n",
    "4. Comparing results and conclusion\n",
    "\n",
    "### Sources\n",
    "The English human written text is from two articles:\n",
    "- https://www.economist.com/europe/2023/06/09/ukraines-assault-in-zaporizhia-may-be-the-focus-of-its-offensive\n",
    "- https://www.bbc.com/news/world-latin-america-65864158\n",
    "\n",
    "The Dutch human written text is from these two sources:\n",
    "- https://www.nu.nl/binnenland/6267525/hitteprotocol-rijkswaterstaat-geldt-ook-maandag-behalve-in-het-noorden.html\n",
    "- https://nos.nl/artikel/2478434-het-oekraiense-tegenoffensief-is-begonnen-hoe-staat-het-ervoor\n",
    "\n",
    "The AI generated text is from OpenAI GPT-3.5 using their API."
   ]
  },
  {
   "cell_type": "markdown",
   "id": "1c53dc23",
   "metadata": {},
   "source": [
    "## Calculating perplexity\n",
    "\n",
    "Perplexity is a metric that is used to measure the quality of language models. It is reversely related to the entropy of a model. \n",
    "\n",
    "\n",
    "- blog: https://medium.com/@priyankads/perplexity-of-language-models-41160427ed72\n",
    "- wiki: https://en.wikipedia.org/wiki/Perplexity\n",
    "- o'reilly: https://www.oreilly.com/library/view/natural-language-processing/9781787285101/ch21s05.html (to do)"
   ]
  },
  {
   "cell_type": "markdown",
   "id": "22b19a75",
   "metadata": {},
   "source": [
    "## 0. Install packages"
   ]
  },
  {
   "cell_type": "code",
   "execution_count": 132,
   "id": "5f80563e",
   "metadata": {},
   "outputs": [],
   "source": [
    "#pip install openai\n",
    "#pip install transformers\n",
    "#pip install torch"
   ]
  },
  {
   "cell_type": "markdown",
   "id": "de3eee16",
   "metadata": {},
   "source": [
    "## 1. Settings"
   ]
  },
  {
   "cell_type": "code",
   "execution_count": 18,
   "id": "60d37515",
   "metadata": {},
   "outputs": [],
   "source": [
    "#set API keys\n",
    "import os\n",
    "import config\n",
    "os.environ['OPENAI_API_KEY'] = config.openai_key # replace with your own API-key, but don't keep it in your source code :-)"
   ]
  },
  {
   "cell_type": "code",
   "execution_count": 19,
   "id": "2b902029",
   "metadata": {},
   "outputs": [],
   "source": [
    "#OpenAI settings\n",
    "import openai  # for calling the OpenAI API\n",
    "\n",
    "# models\n",
    "EMBEDDING_MODEL = \"text-embedding-ada-002\" #choose your embeddings model\n",
    "GPT_MODEL = \"gpt-3.5-turbo\" #choose the generative model"
   ]
  },
  {
   "cell_type": "code",
   "execution_count": 20,
   "id": "e1ff6f5d",
   "metadata": {},
   "outputs": [],
   "source": [
    "#Huggingface Transformers settings (to do perplexity)\n",
    "from transformers import AutoModelForCausalLM, AutoTokenizer\n",
    "model = AutoModelForCausalLM.from_pretrained(\"gpt2\")\n",
    "tokenizer = AutoTokenizer.from_pretrained(\"gpt2\")"
   ]
  },
  {
   "cell_type": "markdown",
   "id": "e8c1caf9",
   "metadata": {},
   "source": [
    "## 2. Getting perplexity for 10 openAI generated texts"
   ]
  },
  {
   "cell_type": "code",
   "execution_count": 21,
   "id": "b21d9ba0",
   "metadata": {},
   "outputs": [
    {
     "data": {
      "text/plain": [
       "['Wat is een perceptron en wat is een multi layered perceptron?\\n',\n",
       " 'Wat is het verschil tussen machine leren en diep leren?\\n',\n",
       " 'Let het backpropagatie algoritme uit.\\n',\n",
       " 'Wie was Geoff Hinton en wat was zijn rol in de ontwikkeling van neurale netwerken?\\n',\n",
       " 'Hoe kunnen we onderscheid maken tussen een door een KI gegenereerde tekst en een door een mens geschreven tekst?\\n',\n",
       " 'Beschrijf het verschil tussen menselijke neuronen en kunstmatige neuronen\\n',\n",
       " 'Op welke manier zal generatieve KI de wereld gaan veranderen?\\n',\n",
       " 'Wat was er zo belangrijk aan het taalmodel BERT in het vak NLP.\\n',\n",
       " \"Leg uit waarom Meta's LLaMA beter is dan GPT3.5\\n\",\n",
       " 'Wat zijn Gaussian Mixtures?']"
      ]
     },
     "execution_count": 21,
     "metadata": {},
     "output_type": "execute_result"
    }
   ],
   "source": [
    "query_list = []\n",
    "with open ('prompts_nl.txt', mode='r') as prompts: #change to 'prompts_nl.txt' for Dutch prompts\n",
    "    for prompt in prompts: #for each row do the following\n",
    "        #query = prompt.split()\n",
    "        query_list.append(prompt)\n",
    "query_list"
   ]
  },
  {
   "cell_type": "code",
   "execution_count": 23,
   "id": "49b99211",
   "metadata": {},
   "outputs": [],
   "source": [
    "oa_result_list =[] \n",
    "for i in range(len(query_list)):\n",
    "    query = query_list[i]\n",
    " \n",
    "    response = openai.ChatCompletion.create(\n",
    "        messages=[\n",
    "            {'role': 'system', 'content': ''},\n",
    "            {'role': 'user', 'content': query},\n",
    "        ],\n",
    "        model=GPT_MODEL,\n",
    "        temperature=0\n",
    "        \n",
    "        , #temperature is a parameter about the entropy of the model (the higher, the greater variation in results)\n",
    "        )\n",
    "        \n",
    "    #print(response['choices'][0]['message']['content'])\n",
    "    openai_result = response['choices'][0]['message']['content']\n",
    "    oa_result_list.append(openai_result)"
   ]
  },
  {
   "cell_type": "code",
   "execution_count": 24,
   "id": "ac16e98e",
   "metadata": {},
   "outputs": [
    {
     "name": "stdout",
     "output_type": "stream",
     "text": [
      "10\n",
      "Een perceptron is een eenvoudig neuraal netwerk dat bestaat uit één enkele laag van neuronen. Het is een lineair classificatiemodel dat kan worden gebruikt om gegevens te classificeren in twee categorieën. Het perceptron ontvangt invoergegevens en past gewichten toe op de invoer om een lineaire combinatie te berekenen. Deze lineaire combinatie wordt vervolgens door een activatiefunctie geleid om een uitvoer te produceren.\n",
      "\n",
      "Een multi-layer perceptron (MLP) is een neuraal netwerk dat bestaat uit meerdere lagen van neuronen. Het is een niet-lineair classificatiemodel dat kan worden gebruikt om gegevens te classificeren in meerdere categorieën. In tegenstelling tot het perceptron, kan een MLP complexe patronen in de gegevens leren door middel van de toepassing van niet-lineaire activatiefuncties op de lineaire combinaties van de invoergegevens. Het MLP kan worden getraind met behulp van backpropagation, een algoritme dat de gewichten van het netwerk aanpast om de nauwkeurigheid van de classificatie te verbeteren.\n",
      "----------------------------------------------------------------------------------------------------\n",
      "Machine learning en deep learning zijn beide vormen van kunstmatige intelligentie, maar er zijn enkele belangrijke verschillen tussen de twee.\n",
      "\n",
      "Machine learning is een methode om computers te leren hoe ze taken kunnen uitvoeren door middel van algoritmen en statistische modellen. Het is gebaseerd op het idee dat computers kunnen leren van gegevens en patronen kunnen herkennen om voorspellingen te doen of beslissingen te nemen. Machine learning-algoritmen kunnen worden gebruikt voor een breed scala aan taken, zoals beeldherkenning, spraakherkenning, voorspellende analyse en natuurlijke taalverwerking.\n",
      "\n",
      "Deep learning is een subset van machine learning die gebruik maakt van kunstmatige neurale netwerken om complexe taken uit te voeren. Het is geïnspireerd op de manier waarop het menselijk brein werkt en maakt gebruik van meerdere lagen van neuronen om gegevens te verwerken en te leren. Deep learning-algoritmen kunnen worden gebruikt voor taken zoals beeld- en spraakherkenning, natuurlijke taalverwerking en autonome voertuigen.\n",
      "\n",
      "Het belangrijkste verschil tussen machine learning en deep learning is dat deep learning meer geavanceerde algoritmen gebruikt die in staat zijn om complexere taken uit te voeren. Dit komt omdat deep learning-algoritmen gebruik maken van meerdere lagen van neuronen om gegevens te verwerken en te leren, terwijl machine learning-algoritmen meestal slechts één of twee lagen gebruiken. Dit maakt deep learning geschikt voor taken die meer geavanceerde en complexe beslissingen vereisen.\n",
      "----------------------------------------------------------------------------------------------------\n",
      "Het backpropagatie algoritme is een algoritme dat wordt gebruikt om de fout van een neuraal netwerk te verminderen door de gewichten van de verbindingen tussen de neuronen aan te passen. Het algoritme bestaat uit de volgende stappen:\n",
      "\n",
      "1. Voorwaartse propagatie: De invoer wordt door het netwerk geleid en de uitvoer wordt berekend.\n",
      "\n",
      "2. Berekenen van de fout: De fout tussen de berekende uitvoer en de gewenste uitvoer wordt berekend.\n",
      "\n",
      "3. Achterwaartse propagatie: De fout wordt teruggevoerd door het netwerk en de gewichten van de verbindingen tussen de neuronen worden aangepast om de fout te verminderen.\n",
      "\n",
      "4. Herhaal stappen 1-3: Het proces wordt herhaald totdat de fout onder een bepaalde drempelwaarde komt of het netwerk voldoende is getraind.\n",
      "\n",
      "Het aanpassen van de gewichten gebeurt door middel van de afgeleide van de fout ten opzichte van de gewichten. Deze afgeleide wordt gebruikt om de richting en grootte van de aanpassing van de gewichten te bepalen. Dit proces wordt ook wel de gradient descent genoemd. Door de gewichten op de juiste manier aan te passen, kan het netwerk leren om de gewenste uitvoer te produceren voor een gegeven invoer.\n",
      "----------------------------------------------------------------------------------------------------\n",
      "Geoff Hinton is een gerenommeerde computerwetenschapper en pionier op het gebied van neurale netwerken en deep learning. Hij werd geboren in Londen in 1947 en studeerde aan de Universiteit van Edinburgh, waar hij in 1978 promoveerde in de kunstmatige intelligentie.\n",
      "\n",
      "Hinton heeft een belangrijke rol gespeeld in de ontwikkeling van neurale netwerken, die een belangrijke rol spelen in de hedendaagse AI-toepassingen. Hij heeft bijgedragen aan de ontwikkeling van backpropagation, een algoritme dat wordt gebruikt om de gewichten van neurale netwerken aan te passen en zo de nauwkeurigheid van de voorspellingen te verbeteren. Hij heeft ook bijgedragen aan de ontwikkeling van convolutionele neurale netwerken, die worden gebruikt voor beeldherkenning en andere visuele taken.\n",
      "\n",
      "Hinton heeft talloze prijzen en onderscheidingen ontvangen voor zijn werk op het gebied van neurale netwerken en deep learning, waaronder de Turing Award in 2018, die wordt beschouwd als de hoogste onderscheiding in de informatica. Hij blijft actief betrokken bij onderzoek en onderwijs op het gebied van AI en neurale netwerken.\n",
      "----------------------------------------------------------------------------------------------------\n",
      "Er zijn verschillende manieren om onderscheid te maken tussen een door een KI gegenereerde tekst en een door een mens geschreven tekst:\n",
      "\n",
      "1. Grammatica en spelling: KI's kunnen nog steeds moeite hebben met het correct gebruiken van grammatica en spelling, terwijl menselijke schrijvers deze vaardigheden meestal beheersen.\n",
      "\n",
      "2. Stijl en toon: Menselijke schrijvers hebben vaak een unieke stijl en toon die moeilijk te repliceren is door een KI. Een KI kan weliswaar een tekst schrijven die grammaticaal correct is, maar het kan moeilijk zijn om de juiste toon en stijl te vinden die past bij de context van de tekst.\n",
      "\n",
      "3. Inhoud en context: Een KI kan alleen informatie gebruiken die het heeft geleerd uit de gegevens die het heeft geanalyseerd. Een menselijke schrijver kan daarentegen putten uit een breed scala aan kennis en ervaring om een tekst te schrijven die past bij de context en de doelgroep.\n",
      "\n",
      "4. Creativiteit: Hoewel KI's in staat zijn om nieuwe teksten te genereren, zijn ze nog steeds beperkt in hun creativiteit. Menselijke schrijvers kunnen daarentegen nieuwe ideeën en perspectieven introduceren in hun teksten.\n",
      "\n",
      "Kortom, hoewel KI's steeds beter worden in het genereren van teksten die lijken op die van een menselijke schrijver, zijn er nog steeds verschillen in grammatica, stijl, inhoud, context en creativiteit die kunnen helpen bij het onderscheiden van een door een KI gegenereerde tekst en een door een mens geschreven tekst.\n",
      "----------------------------------------------------------------------------------------------------\n",
      "Menselijke neuronen zijn biologische cellen die de basis vormen van het zenuwstelsel. Ze zijn verantwoordelijk voor het ontvangen, verwerken en doorgeven van informatie in het lichaam. Menselijke neuronen hebben een complexe structuur en zijn in staat om te communiceren met andere neuronen door middel van elektrische en chemische signalen.\n",
      "\n",
      "Kunstmatige neuronen zijn computermodellen die zijn ontworpen om de functies van menselijke neuronen na te bootsen. Ze zijn gebaseerd op wiskundige formules en algoritmen en worden gebruikt in kunstmatige neurale netwerken om taken uit te voeren zoals patroonherkenning, spraakherkenning en beeldverwerking.\n",
      "\n",
      "Het belangrijkste verschil tussen menselijke neuronen en kunstmatige neuronen is dat menselijke neuronen biologische cellen zijn die in staat zijn om te groeien, te veranderen en zich aan te passen aan nieuwe omgevingen en situaties. Kunstmatige neuronen zijn daarentegen statische modellen die zijn ontworpen om specifieke taken uit te voeren en niet in staat zijn om zich aan te passen aan veranderende omstandigheden. Bovendien zijn menselijke neuronen veel complexer dan kunstmatige neuronen en hebben ze een veel grotere capaciteit om informatie te verwerken en te communiceren met andere neuronen.\n",
      "----------------------------------------------------------------------------------------------------\n",
      "Generatieve KI zal de wereld op verschillende manieren veranderen. Hier zijn enkele voorbeelden:\n",
      "\n",
      "1. Kunstmatige creativiteit: Generatieve KI kan worden gebruikt om nieuwe kunstwerken, muziekstukken en literatuur te creëren. Dit kan leiden tot een nieuwe vorm van kunst en cultuur die anders niet mogelijk zou zijn geweest.\n",
      "\n",
      "2. Personalisatie: Generatieve KI kan worden gebruikt om gepersonaliseerde producten en diensten te creëren, zoals gepersonaliseerde advertenties, aanbevelingen en productontwerpen. Dit kan leiden tot een betere klantervaring en meer efficiëntie in de productie.\n",
      "\n",
      "3. Automatisering: Generatieve KI kan worden gebruikt om taken en processen te automatiseren die momenteel door mensen worden uitgevoerd. Dit kan leiden tot meer efficiëntie en kostenbesparingen in verschillende sectoren, zoals de productie, logistiek en gezondheidszorg.\n",
      "\n",
      "4. Nieuwe mogelijkheden: Generatieve KI kan nieuwe mogelijkheden creëren die momenteel niet bestaan. Bijvoorbeeld, het kan worden gebruikt om nieuwe materialen te ontwikkelen die sterker en lichter zijn dan de huidige materialen, of om nieuwe geneesmiddelen te ontdekken die momenteel niet bekend zijn.\n",
      "\n",
      "Over het algemeen zal generatieve KI de wereld veranderen door nieuwe mogelijkheden te creëren, bestaande processen te verbeteren en nieuwe vormen van creativiteit en personalisatie mogelijk te maken.\n",
      "----------------------------------------------------------------------------------------------------\n",
      "BERT (Bidirectional Encoder Representations from Transformers) is een taalmodel dat in 2018 werd geïntroduceerd door Google. Het is een belangrijke doorbraak in het vakgebied van Natural Language Processing (NLP) omdat het de prestaties van taalmodellen aanzienlijk heeft verbeterd.\n",
      "\n",
      "Wat BERT zo belangrijk maakt, is dat het een transformer-gebaseerd model is dat gebruikmaakt van bi-directionele training. Dit betekent dat het model niet alleen naar de context van een woord kijkt, maar ook naar de context van de hele zin. Hierdoor kan het model beter begrijpen hoe woorden in een zin met elkaar samenhangen en hoe de betekenis van een zin kan veranderen afhankelijk van de context.\n",
      "\n",
      "BERT heeft ook een grote impact gehad op verschillende NLP-taken, zoals vraag-antwoord, sentimentanalyse en tekstclassificatie. Het heeft de prestaties van deze taken aanzienlijk verbeterd en heeft geleid tot nieuwe toepassingen van NLP in verschillende industrieën, zoals de gezondheidszorg, financiën en marketing.\n",
      "\n",
      "Kortom, BERT is belangrijk omdat het heeft bijgedragen aan de ontwikkeling van betere taalmodellen en heeft geleid tot nieuwe toepassingen van NLP in verschillende industrieën.\n",
      "----------------------------------------------------------------------------------------------------\n",
      "Als AI-assistent kan ik geen persoonlijke voorkeur uiten, maar ik kan wel de verschillen tussen Meta's LLaMA en GPT3.5 uitleggen.\n",
      "\n",
      "Meta's LLaMA is een AI-model dat specifiek is ontworpen voor het genereren van natuurlijke taal in de context van vraag- en antwoordgesprekken. Het is getraind op een enorme dataset van vragen en antwoorden en kan daardoor zeer nauwkeurige en relevante antwoorden genereren op gestelde vragen. Bovendien is LLaMA getraind op het begrijpen van de context van de vraag en kan het antwoorden genereren die passen bij de specifieke situatie.\n",
      "\n",
      "GPT3.5 is een AI-model dat is ontworpen voor het genereren van natuurlijke taal in verschillende contexten, waaronder tekstgeneratie, vertaling en samenvatting. Het is getraind op een enorme dataset van teksten en kan daardoor zeer goed teksten genereren die grammaticaal correct zijn en een natuurlijke stijl hebben. Echter, GPT3.5 is niet specifiek getraind op vraag- en antwoordgesprekken en kan daardoor minder nauwkeurige en relevante antwoorden genereren op gestelde vragen.\n",
      "\n",
      "Dus, als het gaat om het genereren van antwoorden op gestelde vragen, is Meta's LLaMA beter geschikt dan GPT3.5 vanwege zijn specifieke training op vraag- en antwoordgesprekken en het begrijpen van de context van de vraag.\n",
      "----------------------------------------------------------------------------------------------------\n",
      "Gaussian Mixtures zijn een statistische methode voor het modelleren van complexe verdelingen van gegevens. Het is een combinatie van meerdere Gaussische verdelingen (ook bekend als normale verdelingen) die samen een gemengde verdeling vormen. Elke Gaussische verdeling in de mix vertegenwoordigt een cluster van gegevenspunten in de dataset. Door de parameters van de Gaussische verdelingen te schatten, kan de mix worden gebruikt om de verdeling van de gegevens te modelleren en te analyseren. Gaussian Mixtures worden vaak gebruikt in patroonherkenning, clustering en beeldverwerking.\n",
      "----------------------------------------------------------------------------------------------------\n"
     ]
    }
   ],
   "source": [
    "print(len(oa_result_list))\n",
    "for i in range(len(oa_result_list)):\n",
    "    print(oa_result_list[i])\n",
    "    print(100*'-')"
   ]
  },
  {
   "cell_type": "code",
   "execution_count": 25,
   "id": "a297c7f3",
   "metadata": {},
   "outputs": [
    {
     "data": {
      "text/plain": [
       "['NL', 'NL', 'NL', 'NL', 'NL', 'NL', 'NL', 'NL', 'NL', 'NL']"
      ]
     },
     "execution_count": 25,
     "metadata": {},
     "output_type": "execute_result"
    }
   ],
   "source": [
    "#detect the language \n",
    "import deepl \n",
    "import config #this is my own config file. You'll need to create your own. See notebook 2.x\n",
    "my_api_key = config.deepl #get your own API Key!\n",
    "translator = deepl.Translator(my_api_key) \n",
    "\n",
    "language_list=[]\n",
    "for i in range(len(oa_result_list)):\n",
    "    text = oa_result_list[i]\n",
    "    result = translator.translate_text(text, target_lang=\"EN-US\")\n",
    "    #print(result.detected_source_lang)\n",
    "    language_list.append(result.detected_source_lang)\n",
    "language_list"
   ]
  },
  {
   "cell_type": "code",
   "execution_count": 26,
   "id": "e0bca84b",
   "metadata": {},
   "outputs": [
    {
     "data": {
      "text/plain": [
       "['NL_AI',\n",
       " 'NL_AI',\n",
       " 'NL_AI',\n",
       " 'NL_AI',\n",
       " 'NL_AI',\n",
       " 'NL_AI',\n",
       " 'NL_AI',\n",
       " 'NL_AI',\n",
       " 'NL_AI',\n",
       " 'NL_AI']"
      ]
     },
     "execution_count": 26,
     "metadata": {},
     "output_type": "execute_result"
    }
   ],
   "source": [
    "#combining language with AI\n",
    "lang_ai_list=[]\n",
    "for i in range(len(language_list)):\n",
    "    new_str = language_list[i]+\"_AI\"\n",
    "    lang_ai_list.append(new_str)\n",
    "lang_ai_list"
   ]
  },
  {
   "cell_type": "code",
   "execution_count": null,
   "id": "5b8cb2d3",
   "metadata": {},
   "outputs": [],
   "source": []
  },
  {
   "cell_type": "code",
   "execution_count": 27,
   "id": "095c7edf",
   "metadata": {},
   "outputs": [
    {
     "name": "stdout",
     "output_type": "stream",
     "text": [
      "tensor(67.5429, grad_fn=<ExpBackward0>)\n",
      "tensor(58.1080, grad_fn=<ExpBackward0>)\n",
      "tensor(48.4369, grad_fn=<ExpBackward0>)\n",
      "tensor(69.6907, grad_fn=<ExpBackward0>)\n",
      "tensor(44.2813, grad_fn=<ExpBackward0>)\n",
      "tensor(69.5256, grad_fn=<ExpBackward0>)\n",
      "tensor(46.7678, grad_fn=<ExpBackward0>)\n",
      "tensor(99.2462, grad_fn=<ExpBackward0>)\n",
      "tensor(32.8285, grad_fn=<ExpBackward0>)\n",
      "tensor(82.5210, grad_fn=<ExpBackward0>)\n"
     ]
    }
   ],
   "source": [
    "#getting the perplexity tensor for the openai generated text\n",
    "from transformers import AutoModelForCausalLM, AutoTokenizer\n",
    "import torch\n",
    "perplexity_list =[]\n",
    "for i in range(len(oa_result_list)):\n",
    "    inputs_text = tokenizer(oa_result_list[i], return_tensors = \"pt\")\n",
    "    loss = model(input_ids = inputs_text[\"input_ids\"], labels = inputs_text[\"input_ids\"]).loss\n",
    "    ppl = torch.exp(loss)\n",
    "    print(ppl)\n",
    "    perplexity_list.append(ppl)"
   ]
  },
  {
   "cell_type": "code",
   "execution_count": 28,
   "id": "73406aca",
   "metadata": {},
   "outputs": [
    {
     "name": "stdout",
     "output_type": "stream",
     "text": [
      "[67.5429, 58.108, 48.4369, 69.6907, 44.2813, 69.5256, 46.7678, 99.2462, 32.8285, 82.521]\n"
     ]
    }
   ],
   "source": [
    "#converting tensors to string and getting just the values\n",
    "ai_text_perplexity= []\n",
    "for i in range(len(perplexity_list)):\n",
    "    tensor_string=str(perplexity_list[i])\n",
    "    a,b = tensor_string.split(\",\")\n",
    "    tensor, perplexity = a.split(\"(\")\n",
    "    ai_text_perplexity.append(float(perplexity))\n",
    "print(ai_text_perplexity)"
   ]
  },
  {
   "cell_type": "code",
   "execution_count": 29,
   "id": "a6ac99e6",
   "metadata": {},
   "outputs": [
    {
     "data": {
      "text/plain": [
       "{67.5429: 'NL_AI',\n",
       " 58.108: 'NL_AI',\n",
       " 48.4369: 'NL_AI',\n",
       " 69.6907: 'NL_AI',\n",
       " 44.2813: 'NL_AI',\n",
       " 69.5256: 'NL_AI',\n",
       " 46.7678: 'NL_AI',\n",
       " 99.2462: 'NL_AI',\n",
       " 32.8285: 'NL_AI',\n",
       " 82.521: 'NL_AI'}"
      ]
     },
     "execution_count": 29,
     "metadata": {},
     "output_type": "execute_result"
    }
   ],
   "source": [
    "#combining two lists to one dictionary using 'zip'\n",
    "ai_perplexity_dict = {key: value for key, value in zip(ai_text_perplexity, lang_ai_list)}\n",
    "ai_perplexity_dict"
   ]
  },
  {
   "cell_type": "markdown",
   "id": "aee42485",
   "metadata": {},
   "source": [
    "## 3. Getting the perplexity for 10 human written texts"
   ]
  },
  {
   "cell_type": "code",
   "execution_count": 7,
   "id": "fff8aa45",
   "metadata": {},
   "outputs": [
    {
     "data": {
      "text/plain": [
       "['Het hitteprotocol van Rijkswaterstaat geldt ook maandag. Dat houdt in dat weggebruikers die met pech langs de weg staan, direct worden geholpen. Vandaag is het protocol in heel Nederland van kracht, maandag in alle provincies behalve Friesland, Groningen en Drenthe.\\n',\n",
       " 'Het hitteprotocol geldt maandag van 10.00 tot 22.00 uur. Ook zaterdag was het in de meeste provincies van kracht wegens de tropische temperaturen. Zodra er een grote kans is dat het 30 graden of warmer wordt, zet Rijkswaterstaat het protocol in. Rijkswaterstaat wil niet dat gestrande weggebruikers bij hoge temperaturen langdurig in de zon moeten wachten.\\n',\n",
       " 'Daarom is het de bedoeling dat mensen bij autopech zo snel mogelijk door een berger naar een plek met voorzieningen worden gebracht, zoals een tankstation. Weggebruikers krijgen het advies goed voorbereid op weg te gaan en alert te zijn bij hitte. Zo adviseert Rijkswaterstaat genoeg drinkwater en een paraplu tegen de zon in de auto te leggen.\\n',\n",
       " 'Hoe effectief zal de Russische luchtmacht zijn? En hoe effectief de Oekraïense luchtverdediging? Volgens oud-commandant Landstrijdkrachten Mart de Kruif zijn dat de cruciale kwesties die zullen bepalen hoe het Oekraïense tegenoffensief, dat de afgelopen dagen echt op gang is gekomen, zal uitpakken. \"Het is een onderbuikgevoel, maar ik denk dat we over een week meer weten.\"\\n',\n",
       " 'De Oekraïners zijn deze week op meerdere plaatsen langs het 800 tot 900 kilometer lange front in de aanval. De strijd is intensief en bloedig. Onduidelijk is nog wat het hoofddoel van het offensief wordt, ook voor De Kruif. \"De regio Zaporizja is de meest logische optie. Dan kun je naar de Zee van Azov doorstoten en verbreek je de landverbinding tussen Rusland en de Krim. Maar je kunt ook heel veel terrein terugwinnen in Loehansk en dan naar het noorden toe richting Charkiv.\"\\n',\n",
       " 'De uitkomst van oorlogen en veldslagen wordt vaak bepaald door reserves, omdat dat vaak ervaren en goed getrainde militairen zijn. Rusland zal zijn reserves daar willen inzetten waar het gevaar van een doorbraak het grootst is, denkt De Kruif. Oekraïne zal er alles aan doen om de Russen te misleiden, zodat de kans dat Oekraïners Russische reserves tegenkomen zo klein mogelijk is, of dat die reserves te laat komen.\\n',\n",
       " 'In verband daarmee is de kromming die de frontlijn laat zien in het voordeel van Oekraïne en in het nadeel van de Russen. \"Oekraïne kan eenheden relatief snel over eigen gebied van noord naar zuid en van zuid naar noord brengen. Rusland heeft het probleem van de buitenlijn. Die moeten vanwege de kromming in het front bijna altijd buitenom.\"\\n',\n",
       " 'Op dit moment wordt op verschillende plekken gevochten. \"Het is nog niet duidelijk waar de hoofdaanval komt\", zegt De Kruif. \"Je dwingt zo Rusland om voortdurend de keuze te maken: waar ga ik de reserves opstellen of zelf inzetten om een doorbraak tegen te gaan?\"\\n',\n",
       " 'Een van de grootste zorgen aan Oekraïense kant is dat als ze die doorbraak hebben, de Russische luchtmacht daar massaal op gaat ingrijpen. Dus Oekraïne zal daar ook het gros van zijn luchtverdediging moeten positioneren, inclusief de jachtvliegtuigen die de Russische luchtmacht daar moet weghouden. \"Je moet al je middelen op het goede moment op de juiste plaats hebben staan. Dat doe je niet zomaar, het is een kwestie van dagen en weken om dat te plannen.\"\\n',\n",
       " 'Op sociale media gaan intussen beelden rond van door het Westen geleverde tanks, die door de Russen worden vernietigd. De Kruif zag de beelden ook. \"Ook een Leopard 2 kan stuk. Al eerder hebben Koerden in Noord-Syrië een Turkse Leopard 2 uitgeschakeld. Een voertuig is alleen maar effectief als je het goed gebruikt, op de juiste wijze het terrein gebruikt, anders ben je altijd kwetsbaar.\"']"
      ]
     },
     "execution_count": 7,
     "metadata": {},
     "output_type": "execute_result"
    }
   ],
   "source": [
    "query_list = []\n",
    "with open ('humanwritten_nl.txt', mode='r') as prompts: #change to 'humanwritten_nl.txt' if you prefer Dutch\n",
    "    for prompt in prompts: #for each row do the following\n",
    "        #query = prompt.split()\n",
    "        query_list.append(prompt)\n",
    "query_list"
   ]
  },
  {
   "cell_type": "code",
   "execution_count": 32,
   "id": "37401a16",
   "metadata": {},
   "outputs": [
    {
     "data": {
      "text/plain": [
       "['NL', 'NL', 'NL', 'NL', 'NL', 'NL', 'NL', 'NL', 'NL', 'NL']"
      ]
     },
     "execution_count": 32,
     "metadata": {},
     "output_type": "execute_result"
    }
   ],
   "source": [
    "#detect the language \n",
    "import deepl\n",
    "import config #this is my own config file. You'll need to create your own. See notebook 2.x\n",
    "my_api_key = config.deepl #get your own API Key!\n",
    "translator = deepl.Translator(my_api_key) \n",
    "\n",
    "def get_hw_language_list(query_list):\n",
    "    hw_language_list = []\n",
    "    for i in range(len(query_list)):\n",
    "        text = query_list[i]\n",
    "        result = translator.translate_text(text, target_lang=\"EN-US\")\n",
    "        #print(result.detected_source_lang)\n",
    "        hw_language_list.append(result.detected_source_lang)\n",
    "    return hw_language_list\n",
    "get_hw_language_list(query_list)"
   ]
  },
  {
   "cell_type": "code",
   "execution_count": 33,
   "id": "8805a32a",
   "metadata": {},
   "outputs": [
    {
     "data": {
      "text/plain": [
       "['NL_human',\n",
       " 'NL_human',\n",
       " 'NL_human',\n",
       " 'NL_human',\n",
       " 'NL_human',\n",
       " 'NL_human',\n",
       " 'NL_human',\n",
       " 'NL_human',\n",
       " 'NL_human',\n",
       " 'NL_human']"
      ]
     },
     "execution_count": 33,
     "metadata": {},
     "output_type": "execute_result"
    }
   ],
   "source": [
    "#combining language with AI\n",
    "def get_lang_of_human_list(hw_language_list):\n",
    "    lang_human_list=[]\n",
    "    for i in range(len(hw_language_list)):\n",
    "        new_str = hw_language_list[i]+\"_human\"\n",
    "        lang_human_list.append(new_str)\n",
    "    return lang_human_list\n",
    "get_lang_of_human_list(hw_language_list)"
   ]
  },
  {
   "cell_type": "code",
   "execution_count": 38,
   "id": "a3600798",
   "metadata": {},
   "outputs": [
    {
     "data": {
      "text/plain": [
       "[211.6711,\n",
       " 222.4663,\n",
       " 304.6771,\n",
       " 326.6619,\n",
       " 327.4499,\n",
       " 305.0379,\n",
       " 141.3531,\n",
       " 360.3304,\n",
       " 153.0569,\n",
       " 207.1511]"
      ]
     },
     "execution_count": 38,
     "metadata": {},
     "output_type": "execute_result"
    }
   ],
   "source": [
    "import torch\n",
    "\n",
    "def get_human_text_perplexity(query_list, tokenizer, model):\n",
    "    human_text_perplexity= []\n",
    "    for i in range(len(query_list)):\n",
    "        inputs_text = tokenizer(query_list[i], return_tensors=\"pt\")\n",
    "        loss = model(input_ids=inputs_text[\"input_ids\"], labels=inputs_text[\"input_ids\"]).loss\n",
    "        ppl = torch.exp(loss)\n",
    "        tensor_string=str(pp_list_human[i])\n",
    "        a,b = tensor_string.split(\",\")\n",
    "        tensor, perplexity = a.split(\"(\")\n",
    "        human_text_perplexity.append(float(perplexity))\n",
    "    return human_text_perplexity\n",
    "get_human_text_perplexity(query_list, tokenizer, model)"
   ]
  },
  {
   "cell_type": "code",
   "execution_count": null,
   "id": "1ae2cd88",
   "metadata": {},
   "outputs": [],
   "source": []
  },
  {
   "cell_type": "code",
   "execution_count": 39,
   "id": "b237c27c",
   "metadata": {},
   "outputs": [
    {
     "data": {
      "text/plain": [
       "{211.6711: 'NL_human',\n",
       " 222.4663: 'NL_human',\n",
       " 304.6771: 'NL_human',\n",
       " 326.6619: 'NL_human',\n",
       " 327.4499: 'NL_human',\n",
       " 305.0379: 'NL_human',\n",
       " 141.3531: 'NL_human',\n",
       " 360.3304: 'NL_human',\n",
       " 153.0569: 'NL_human',\n",
       " 207.1511: 'NL_human'}"
      ]
     },
     "execution_count": 39,
     "metadata": {},
     "output_type": "execute_result"
    }
   ],
   "source": [
    "#combining two lists to one dictionary using 'zip'\n",
    "ai_perplexity_dict = {key: value for key, value in zip(human_text_perplexity, lang_human_list)}\n",
    "ai_perplexity_dict"
   ]
  },
  {
   "cell_type": "markdown",
   "id": "fa398864",
   "metadata": {},
   "source": [
    "## 4. Comparing results and conclusion"
   ]
  },
  {
   "cell_type": "code",
   "execution_count": 67,
   "id": "4faa53a6",
   "metadata": {},
   "outputs": [
    {
     "name": "stdout",
     "output_type": "stream",
     "text": [
      "[67.5429, 58.108, 48.4369, 69.6907, 44.2813, 69.5256, 46.7678, 99.2462, 32.8285, 82.521, 211.6711, 222.4663, 304.6771, 326.6619, 327.4499, 305.0379, 141.3531, 360.3304, 153.0569, 207.1511]\n",
      "20\n"
     ]
    }
   ],
   "source": [
    "#create one list\n",
    "results =ai_text_perplexity+human_text_perplexity\n",
    "print(results)\n",
    "print(len(results))"
   ]
  },
  {
   "cell_type": "code",
   "execution_count": 78,
   "id": "3cd533ff",
   "metadata": {},
   "outputs": [
    {
     "ename": "ValueError",
     "evalue": "'c' argument has 21 elements, which is inconsistent with 'x' and 'y' with size 1.",
     "output_type": "error",
     "traceback": [
      "\u001b[0;31m---------------------------------------------------------------------------\u001b[0m",
      "\u001b[0;31mValueError\u001b[0m                                Traceback (most recent call last)",
      "Cell \u001b[0;32mIn[78], line 16\u001b[0m\n\u001b[1;32m     13\u001b[0m \u001b[38;5;66;03m# Create scatter plot\u001b[39;00m\n\u001b[1;32m     14\u001b[0m \u001b[38;5;28;01mfor\u001b[39;00m i \u001b[38;5;129;01min\u001b[39;00m \u001b[38;5;28mrange\u001b[39m(\u001b[38;5;28mlen\u001b[39m(x)):\n\u001b[1;32m     15\u001b[0m     \u001b[38;5;66;03m#plt.scatter(x[i], y[i], color=colors[labels[i]])\u001b[39;00m\n\u001b[0;32m---> 16\u001b[0m     \u001b[43mplt\u001b[49m\u001b[38;5;241;43m.\u001b[39;49m\u001b[43mscatter\u001b[49m\u001b[43m(\u001b[49m\u001b[43mx\u001b[49m\u001b[43m[\u001b[49m\u001b[43mi\u001b[49m\u001b[43m]\u001b[49m\u001b[43m,\u001b[49m\u001b[43m \u001b[49m\u001b[43my\u001b[49m\u001b[43m[\u001b[49m\u001b[43mi\u001b[49m\u001b[43m]\u001b[49m\u001b[43m,\u001b[49m\u001b[43m \u001b[49m\u001b[43mcolor\u001b[49m\u001b[38;5;241;43m=\u001b[39;49m\u001b[43mcolors\u001b[49m\u001b[43m)\u001b[49m\n\u001b[1;32m     18\u001b[0m \u001b[38;5;66;03m# Set labels and title\u001b[39;00m\n\u001b[1;32m     19\u001b[0m plt\u001b[38;5;241m.\u001b[39mxlabel(\u001b[38;5;124m'\u001b[39m\u001b[38;5;124mSample no.\u001b[39m\u001b[38;5;124m'\u001b[39m)\n",
      "File \u001b[0;32m~/anaconda3/lib/python3.10/site-packages/matplotlib/pyplot.py:2835\u001b[0m, in \u001b[0;36mscatter\u001b[0;34m(x, y, s, c, marker, cmap, norm, vmin, vmax, alpha, linewidths, edgecolors, plotnonfinite, data, **kwargs)\u001b[0m\n\u001b[1;32m   2830\u001b[0m \u001b[38;5;129m@_copy_docstring_and_deprecators\u001b[39m(Axes\u001b[38;5;241m.\u001b[39mscatter)\n\u001b[1;32m   2831\u001b[0m \u001b[38;5;28;01mdef\u001b[39;00m \u001b[38;5;21mscatter\u001b[39m(\n\u001b[1;32m   2832\u001b[0m         x, y, s\u001b[38;5;241m=\u001b[39m\u001b[38;5;28;01mNone\u001b[39;00m, c\u001b[38;5;241m=\u001b[39m\u001b[38;5;28;01mNone\u001b[39;00m, marker\u001b[38;5;241m=\u001b[39m\u001b[38;5;28;01mNone\u001b[39;00m, cmap\u001b[38;5;241m=\u001b[39m\u001b[38;5;28;01mNone\u001b[39;00m, norm\u001b[38;5;241m=\u001b[39m\u001b[38;5;28;01mNone\u001b[39;00m,\n\u001b[1;32m   2833\u001b[0m         vmin\u001b[38;5;241m=\u001b[39m\u001b[38;5;28;01mNone\u001b[39;00m, vmax\u001b[38;5;241m=\u001b[39m\u001b[38;5;28;01mNone\u001b[39;00m, alpha\u001b[38;5;241m=\u001b[39m\u001b[38;5;28;01mNone\u001b[39;00m, linewidths\u001b[38;5;241m=\u001b[39m\u001b[38;5;28;01mNone\u001b[39;00m, \u001b[38;5;241m*\u001b[39m,\n\u001b[1;32m   2834\u001b[0m         edgecolors\u001b[38;5;241m=\u001b[39m\u001b[38;5;28;01mNone\u001b[39;00m, plotnonfinite\u001b[38;5;241m=\u001b[39m\u001b[38;5;28;01mFalse\u001b[39;00m, data\u001b[38;5;241m=\u001b[39m\u001b[38;5;28;01mNone\u001b[39;00m, \u001b[38;5;241m*\u001b[39m\u001b[38;5;241m*\u001b[39mkwargs):\n\u001b[0;32m-> 2835\u001b[0m     __ret \u001b[38;5;241m=\u001b[39m \u001b[43mgca\u001b[49m\u001b[43m(\u001b[49m\u001b[43m)\u001b[49m\u001b[38;5;241;43m.\u001b[39;49m\u001b[43mscatter\u001b[49m\u001b[43m(\u001b[49m\n\u001b[1;32m   2836\u001b[0m \u001b[43m        \u001b[49m\u001b[43mx\u001b[49m\u001b[43m,\u001b[49m\u001b[43m \u001b[49m\u001b[43my\u001b[49m\u001b[43m,\u001b[49m\u001b[43m \u001b[49m\u001b[43ms\u001b[49m\u001b[38;5;241;43m=\u001b[39;49m\u001b[43ms\u001b[49m\u001b[43m,\u001b[49m\u001b[43m \u001b[49m\u001b[43mc\u001b[49m\u001b[38;5;241;43m=\u001b[39;49m\u001b[43mc\u001b[49m\u001b[43m,\u001b[49m\u001b[43m \u001b[49m\u001b[43mmarker\u001b[49m\u001b[38;5;241;43m=\u001b[39;49m\u001b[43mmarker\u001b[49m\u001b[43m,\u001b[49m\u001b[43m \u001b[49m\u001b[43mcmap\u001b[49m\u001b[38;5;241;43m=\u001b[39;49m\u001b[43mcmap\u001b[49m\u001b[43m,\u001b[49m\u001b[43m \u001b[49m\u001b[43mnorm\u001b[49m\u001b[38;5;241;43m=\u001b[39;49m\u001b[43mnorm\u001b[49m\u001b[43m,\u001b[49m\n\u001b[1;32m   2837\u001b[0m \u001b[43m        \u001b[49m\u001b[43mvmin\u001b[49m\u001b[38;5;241;43m=\u001b[39;49m\u001b[43mvmin\u001b[49m\u001b[43m,\u001b[49m\u001b[43m \u001b[49m\u001b[43mvmax\u001b[49m\u001b[38;5;241;43m=\u001b[39;49m\u001b[43mvmax\u001b[49m\u001b[43m,\u001b[49m\u001b[43m \u001b[49m\u001b[43malpha\u001b[49m\u001b[38;5;241;43m=\u001b[39;49m\u001b[43malpha\u001b[49m\u001b[43m,\u001b[49m\u001b[43m \u001b[49m\u001b[43mlinewidths\u001b[49m\u001b[38;5;241;43m=\u001b[39;49m\u001b[43mlinewidths\u001b[49m\u001b[43m,\u001b[49m\n\u001b[1;32m   2838\u001b[0m \u001b[43m        \u001b[49m\u001b[43medgecolors\u001b[49m\u001b[38;5;241;43m=\u001b[39;49m\u001b[43medgecolors\u001b[49m\u001b[43m,\u001b[49m\u001b[43m \u001b[49m\u001b[43mplotnonfinite\u001b[49m\u001b[38;5;241;43m=\u001b[39;49m\u001b[43mplotnonfinite\u001b[49m\u001b[43m,\u001b[49m\n\u001b[1;32m   2839\u001b[0m \u001b[43m        \u001b[49m\u001b[38;5;241;43m*\u001b[39;49m\u001b[38;5;241;43m*\u001b[39;49m\u001b[43m(\u001b[49m\u001b[43m{\u001b[49m\u001b[38;5;124;43m\"\u001b[39;49m\u001b[38;5;124;43mdata\u001b[39;49m\u001b[38;5;124;43m\"\u001b[39;49m\u001b[43m:\u001b[49m\u001b[43m \u001b[49m\u001b[43mdata\u001b[49m\u001b[43m}\u001b[49m\u001b[43m \u001b[49m\u001b[38;5;28;43;01mif\u001b[39;49;00m\u001b[43m \u001b[49m\u001b[43mdata\u001b[49m\u001b[43m \u001b[49m\u001b[38;5;129;43;01mis\u001b[39;49;00m\u001b[43m \u001b[49m\u001b[38;5;129;43;01mnot\u001b[39;49;00m\u001b[43m \u001b[49m\u001b[38;5;28;43;01mNone\u001b[39;49;00m\u001b[43m \u001b[49m\u001b[38;5;28;43;01melse\u001b[39;49;00m\u001b[43m \u001b[49m\u001b[43m{\u001b[49m\u001b[43m}\u001b[49m\u001b[43m)\u001b[49m\u001b[43m,\u001b[49m\u001b[43m \u001b[49m\u001b[38;5;241;43m*\u001b[39;49m\u001b[38;5;241;43m*\u001b[39;49m\u001b[43mkwargs\u001b[49m\u001b[43m)\u001b[49m\n\u001b[1;32m   2840\u001b[0m     sci(__ret)\n\u001b[1;32m   2841\u001b[0m     \u001b[38;5;28;01mreturn\u001b[39;00m __ret\n",
      "File \u001b[0;32m~/anaconda3/lib/python3.10/site-packages/matplotlib/__init__.py:1442\u001b[0m, in \u001b[0;36m_preprocess_data.<locals>.inner\u001b[0;34m(ax, data, *args, **kwargs)\u001b[0m\n\u001b[1;32m   1439\u001b[0m \u001b[38;5;129m@functools\u001b[39m\u001b[38;5;241m.\u001b[39mwraps(func)\n\u001b[1;32m   1440\u001b[0m \u001b[38;5;28;01mdef\u001b[39;00m \u001b[38;5;21minner\u001b[39m(ax, \u001b[38;5;241m*\u001b[39margs, data\u001b[38;5;241m=\u001b[39m\u001b[38;5;28;01mNone\u001b[39;00m, \u001b[38;5;241m*\u001b[39m\u001b[38;5;241m*\u001b[39mkwargs):\n\u001b[1;32m   1441\u001b[0m     \u001b[38;5;28;01mif\u001b[39;00m data \u001b[38;5;129;01mis\u001b[39;00m \u001b[38;5;28;01mNone\u001b[39;00m:\n\u001b[0;32m-> 1442\u001b[0m         \u001b[38;5;28;01mreturn\u001b[39;00m \u001b[43mfunc\u001b[49m\u001b[43m(\u001b[49m\u001b[43max\u001b[49m\u001b[43m,\u001b[49m\u001b[43m \u001b[49m\u001b[38;5;241;43m*\u001b[39;49m\u001b[38;5;28;43mmap\u001b[39;49m\u001b[43m(\u001b[49m\u001b[43msanitize_sequence\u001b[49m\u001b[43m,\u001b[49m\u001b[43m \u001b[49m\u001b[43margs\u001b[49m\u001b[43m)\u001b[49m\u001b[43m,\u001b[49m\u001b[43m \u001b[49m\u001b[38;5;241;43m*\u001b[39;49m\u001b[38;5;241;43m*\u001b[39;49m\u001b[43mkwargs\u001b[49m\u001b[43m)\u001b[49m\n\u001b[1;32m   1444\u001b[0m     bound \u001b[38;5;241m=\u001b[39m new_sig\u001b[38;5;241m.\u001b[39mbind(ax, \u001b[38;5;241m*\u001b[39margs, \u001b[38;5;241m*\u001b[39m\u001b[38;5;241m*\u001b[39mkwargs)\n\u001b[1;32m   1445\u001b[0m     auto_label \u001b[38;5;241m=\u001b[39m (bound\u001b[38;5;241m.\u001b[39marguments\u001b[38;5;241m.\u001b[39mget(label_namer)\n\u001b[1;32m   1446\u001b[0m                   \u001b[38;5;129;01mor\u001b[39;00m bound\u001b[38;5;241m.\u001b[39mkwargs\u001b[38;5;241m.\u001b[39mget(label_namer))\n",
      "File \u001b[0;32m~/anaconda3/lib/python3.10/site-packages/matplotlib/axes/_axes.py:4602\u001b[0m, in \u001b[0;36mAxes.scatter\u001b[0;34m(self, x, y, s, c, marker, cmap, norm, vmin, vmax, alpha, linewidths, edgecolors, plotnonfinite, **kwargs)\u001b[0m\n\u001b[1;32m   4599\u001b[0m \u001b[38;5;28;01mif\u001b[39;00m edgecolors \u001b[38;5;129;01mis\u001b[39;00m \u001b[38;5;28;01mNone\u001b[39;00m:\n\u001b[1;32m   4600\u001b[0m     orig_edgecolor \u001b[38;5;241m=\u001b[39m kwargs\u001b[38;5;241m.\u001b[39mget(\u001b[38;5;124m'\u001b[39m\u001b[38;5;124medgecolor\u001b[39m\u001b[38;5;124m'\u001b[39m, \u001b[38;5;28;01mNone\u001b[39;00m)\n\u001b[1;32m   4601\u001b[0m c, colors, edgecolors \u001b[38;5;241m=\u001b[39m \\\n\u001b[0;32m-> 4602\u001b[0m     \u001b[38;5;28;43mself\u001b[39;49m\u001b[38;5;241;43m.\u001b[39;49m\u001b[43m_parse_scatter_color_args\u001b[49m\u001b[43m(\u001b[49m\n\u001b[1;32m   4603\u001b[0m \u001b[43m        \u001b[49m\u001b[43mc\u001b[49m\u001b[43m,\u001b[49m\u001b[43m \u001b[49m\u001b[43medgecolors\u001b[49m\u001b[43m,\u001b[49m\u001b[43m \u001b[49m\u001b[43mkwargs\u001b[49m\u001b[43m,\u001b[49m\u001b[43m \u001b[49m\u001b[43mx\u001b[49m\u001b[38;5;241;43m.\u001b[39;49m\u001b[43msize\u001b[49m\u001b[43m,\u001b[49m\n\u001b[1;32m   4604\u001b[0m \u001b[43m        \u001b[49m\u001b[43mget_next_color_func\u001b[49m\u001b[38;5;241;43m=\u001b[39;49m\u001b[38;5;28;43mself\u001b[39;49m\u001b[38;5;241;43m.\u001b[39;49m\u001b[43m_get_patches_for_fill\u001b[49m\u001b[38;5;241;43m.\u001b[39;49m\u001b[43mget_next_color\u001b[49m\u001b[43m)\u001b[49m\n\u001b[1;32m   4606\u001b[0m \u001b[38;5;28;01mif\u001b[39;00m plotnonfinite \u001b[38;5;129;01mand\u001b[39;00m colors \u001b[38;5;129;01mis\u001b[39;00m \u001b[38;5;28;01mNone\u001b[39;00m:\n\u001b[1;32m   4607\u001b[0m     c \u001b[38;5;241m=\u001b[39m np\u001b[38;5;241m.\u001b[39mma\u001b[38;5;241m.\u001b[39mmasked_invalid(c)\n",
      "File \u001b[0;32m~/anaconda3/lib/python3.10/site-packages/matplotlib/axes/_axes.py:4455\u001b[0m, in \u001b[0;36mAxes._parse_scatter_color_args\u001b[0;34m(c, edgecolors, kwargs, xsize, get_next_color_func)\u001b[0m\n\u001b[1;32m   4451\u001b[0m     \u001b[38;5;28;01melse\u001b[39;00m:\n\u001b[1;32m   4452\u001b[0m         \u001b[38;5;28;01mif\u001b[39;00m \u001b[38;5;28mlen\u001b[39m(colors) \u001b[38;5;129;01mnot\u001b[39;00m \u001b[38;5;129;01min\u001b[39;00m (\u001b[38;5;241m0\u001b[39m, \u001b[38;5;241m1\u001b[39m, xsize):\n\u001b[1;32m   4453\u001b[0m             \u001b[38;5;66;03m# NB: remember that a single color is also acceptable.\u001b[39;00m\n\u001b[1;32m   4454\u001b[0m             \u001b[38;5;66;03m# Besides *colors* will be an empty array if c == 'none'.\u001b[39;00m\n\u001b[0;32m-> 4455\u001b[0m             \u001b[38;5;28;01mraise\u001b[39;00m invalid_shape_exception(\u001b[38;5;28mlen\u001b[39m(colors), xsize)\n\u001b[1;32m   4456\u001b[0m \u001b[38;5;28;01melse\u001b[39;00m:\n\u001b[1;32m   4457\u001b[0m     colors \u001b[38;5;241m=\u001b[39m \u001b[38;5;28;01mNone\u001b[39;00m  \u001b[38;5;66;03m# use cmap, norm after collection is created\u001b[39;00m\n",
      "\u001b[0;31mValueError\u001b[0m: 'c' argument has 21 elements, which is inconsistent with 'x' and 'y' with size 1."
     ]
    },
    {
     "data": {
      "image/png": "[encoded data removed]",
      "text/plain": [
       "<Figure size 640x480 with 1 Axes>"
      ]
     },
     "metadata": {},
     "output_type": "display_data"
    }
   ],
   "source": [
    "#using different colors based on labels\n",
    "import matplotlib.pyplot as plt\n",
    "\n",
    "# Sample data\n",
    "x = [1, 2, 3, 4, 5, 6, 7, 8, 9, 10, 11, 12, 13, 14, 15, 16 ,17 ,18 ,19 ,20]\n",
    "y = results\n",
    "labels = ['AI', 'AI', 'AI', 'AI', 'AI', 'AI','AI','AI','AI','AI', 'human','human','human','human','human','human','human','human','human','human','human']\n",
    "\n",
    "# Define colors for different labels\n",
    "#colors = {'human': 'red', 'AI': 'blue'}\n",
    "colors = ['red' if value > 20 else 'green' for value in y]\n",
    "\n",
    "# Create scatter plot\n",
    "for i in range(len(x)):\n",
    "    #plt.scatter(x[i], y[i], color=colors[labels[i]])\n",
    "    plt.scatter(x[i], y[i], color=colors)\n",
    "\n",
    "# Set labels and title\n",
    "plt.xlabel('Sample no.')\n",
    "plt.ylabel('Perplexity score')\n",
    "plt.title('AI generated text (blue) vs Human written text (red)')\n",
    "#plt.legend('red: human text, blue: AI text')\n",
    "# Show the plot\n",
    "plt.show()"
   ]
  },
  {
   "cell_type": "markdown",
   "id": "f70f6dc0",
   "metadata": {},
   "source": [
    "In this notebook we've compared 10 AI generated texts with 10 texts written by humans and calculated their perplexity. When we plotted the results we see a difference between AI-generated texts (low perplexity) and human written text (high perplexity). \n",
    "\n",
    "Without doubt, more testing is needed, especially with other types of text, to get more reliable results."
   ]
  },
  {
   "cell_type": "markdown",
   "id": "2c629712",
   "metadata": {},
   "source": [
    "## Testing with chunks of text"
   ]
  },
  {
   "cell_type": "code",
   "execution_count": 3,
   "id": "a382bec0",
   "metadata": {},
   "outputs": [],
   "source": [
    "text2check ='Ik hoop dat deze e-mail u goed bereikt. Ik schrijf u met betrekking tot de deadline van vandaag voor Mini technische portfolio. Het spijt me ten zeerste dat ik niet in staat ben om het op tijd in te leveren. Ik begrijp dat tijdige indiening van het grootste belang is en ik bied mijn oprechte verontschuldigingen aan voor het niet nakomen van de deadline. De reden dat ik de opdracht niet op tijd kan voltooien, is omdat ik niet genoeg tijd had. Ik heb alles in het werk gesteld om het tijdig af te ronden, maar ik ben geconfronteerd met onverwachte omstandigheden die mijn voortgang hebben vertraagd. Ik betreur het dat ik niet eerder contact met u heb opgenomen om deze situatie te bespreken, maar ik hoop dat u begrip kunt opbrengen voor mijn situatie.Daarom wil ik graag vragen of het mogelijk is om een verlenging te krijgen en de opdracht uiterlijk aanstaande zondag in te leveren. Ik verzeker u dat ik er alles aan zal doen om de opdracht volledig en naar behoren af te ronden binnen de extra tijd die ik vraag. Ik begrijp dat dit afhankelijk is van uw goedkeuring en ik ben u zeer dankbaar als u mij deze kans wilt geven.Nogmaals, mijn oprechte excuses voor het niet nakomen van de deadline. Ik waardeer uw begrip en ik hoop dat we een oplossing kunnen vinden waarmee ik de opdracht als nog succesvol kan afronden.Ik kijk uit naar jullie reactie!'"
   ]
  },
  {
   "cell_type": "code",
   "execution_count": 43,
   "id": "139e5f46",
   "metadata": {},
   "outputs": [
    {
     "name": "stdout",
     "output_type": "stream",
     "text": [
      "115.0131\n"
     ]
    }
   ],
   "source": [
    "#getting the perplexity tensor for the openai generated text\n",
    "from transformers import AutoModelForCausalLM, AutoTokenizer\n",
    "import torch\n",
    "\n",
    "inputs_text = tokenizer(text2check, return_tensors = \"pt\")\n",
    "loss = model(input_ids = inputs_text[\"input_ids\"], labels = inputs_text[\"input_ids\"]).loss\n",
    "ppl = torch.exp(loss)\n",
    "tensor_string=str(ppl)\n",
    "a,b = tensor_string.split(\",\")\n",
    "tensor, perplexity = a.split(\"(\")\n",
    "ppl = float(perplexity)\n",
    "print(ppl)"
   ]
  },
  {
   "cell_type": "code",
   "execution_count": 69,
   "id": "1192585b",
   "metadata": {},
   "outputs": [
    {
     "name": "stdout",
     "output_type": "stream",
     "text": [
      "[1, 2, 3, 4, 5, 6, 7, 8, 9, 10, 11, 12, 13, 14, 15, 16, 17, 18, 19, 20]\n",
      "[67.5429, 58.108, 48.4369, 69.6907, 44.2813, 69.5256, 46.7678, 99.2462, 32.8285, 82.521, 211.6711, 222.4663, 304.6771, 326.6619, 327.4499, 305.0379, 141.3531, 360.3304, 153.0569, 207.1511]\n"
     ]
    }
   ],
   "source": [
    "print(x)\n",
    "print(y)"
   ]
  },
  {
   "cell_type": "code",
   "execution_count": 70,
   "id": "b892554a",
   "metadata": {},
   "outputs": [
    {
     "name": "stdout",
     "output_type": "stream",
     "text": [
      "[1, 2, 3, 4, 5, 6, 7, 8, 9, 10, 11, 12, 13, 14, 15, 16, 17, 18, 19, 20, 21]\n",
      "[67.5429, 58.108, 48.4369, 69.6907, 44.2813, 69.5256, 46.7678, 99.2462, 32.8285, 82.521, 211.6711, 222.4663, 304.6771, 326.6619, 327.4499, 305.0379, 141.3531, 360.3304, 153.0569, 207.1511, 115.0131]\n"
     ]
    }
   ],
   "source": [
    "x.append(21)\n",
    "y.append(ppl)\n",
    "print(x)\n",
    "print(y)"
   ]
  },
  {
   "cell_type": "code",
   "execution_count": 72,
   "id": "ed7e811a",
   "metadata": {},
   "outputs": [
    {
     "name": "stdout",
     "output_type": "stream",
     "text": [
      "21\n"
     ]
    }
   ],
   "source": [
    "print(len(y))"
   ]
  },
  {
   "cell_type": "code",
   "execution_count": 75,
   "id": "6b2f3ddc",
   "metadata": {},
   "outputs": [],
   "source": [
    "import matplotlib.pyplot as plt\n",
    "\n",
    "def plot_scatter(x, y):\n",
    "    # Define colors for different labels\n",
    "    #colors = {'human': 'red', 'AI': 'blue'}\n",
    "    colors = ['red' if value > 100 else 'green' for value in y]\n",
    "    # Create scatter plot\n",
    "    for i in range(len(x)):\n",
    "        plt.scatter(x[i], y[i])\n",
    "\n",
    "    # Set labels and title\n",
    "    plt.xlabel('Sample no.')\n",
    "    plt.ylabel('Perplexity score')\n",
    "    plt.title('AI generated text (blue) vs Human written text (red)')\n",
    "\n",
    "    # Show the plot\n",
    "    plt.show()"
   ]
  },
  {
   "cell_type": "code",
   "execution_count": 76,
   "id": "adb47aa2",
   "metadata": {},
   "outputs": [
    {
     "data": {
      "image/png": "[encoded data removed]",
      "text/plain": [
       "<Figure size 640x480 with 1 Axes>"
      ]
     },
     "metadata": {},
     "output_type": "display_data"
    }
   ],
   "source": [
    "plot_scatter(x, y)"
   ]
  },
  {
   "cell_type": "code",
   "execution_count": null,
   "id": "36812ce8",
   "metadata": {},
   "outputs": [],
   "source": []
  }
 ],
 "metadata": {
  "kernelspec": {
   "display_name": "Python 3 (ipykernel)",
   "language": "python",
   "name": "python3"
  },
  "language_info": {
   "codemirror_mode": {
    "name": "ipython",
    "version": 3
   },
   "file_extension": ".py",
   "mimetype": "text/x-python",
   "name": "python",
   "nbconvert_exporter": "python",
   "pygments_lexer": "ipython3",
   "version": "3.10.9"
  }
 },
 "nbformat": 4,
 "nbformat_minor": 5
}
